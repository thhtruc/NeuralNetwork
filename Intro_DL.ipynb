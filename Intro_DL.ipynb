{
  "nbformat": 4,
  "nbformat_minor": 0,
  "metadata": {
    "colab": {
      "name": "Intro_DL",
      "provenance": [],
      "authorship_tag": "ABX9TyNtapWsCT7EfpL5Dc4WpZNb",
      "include_colab_link": true
    },
    "kernelspec": {
      "name": "python3",
      "display_name": "Python 3"
    },
    "language_info": {
      "name": "python"
    },
    "widgets": {
      "application/vnd.jupyter.widget-state+json": {
        "a35536ce2d3c41c39a0adb6c86229ce6": {
          "model_module": "@jupyter-widgets/controls",
          "model_name": "HBoxModel",
          "state": {
            "_view_name": "HBoxView",
            "_dom_classes": [],
            "_model_name": "HBoxModel",
            "_view_module": "@jupyter-widgets/controls",
            "_model_module_version": "1.5.0",
            "_view_count": null,
            "_view_module_version": "1.5.0",
            "box_style": "",
            "layout": "IPY_MODEL_67700a5b0ce54fa4a4b18b463859157b",
            "_model_module": "@jupyter-widgets/controls",
            "children": [
              "IPY_MODEL_c9177f3899f44a9a87c61459475c98bd",
              "IPY_MODEL_706c8b79d2c9483baa3dacd8742b0f7e"
            ]
          }
        },
        "67700a5b0ce54fa4a4b18b463859157b": {
          "model_module": "@jupyter-widgets/base",
          "model_name": "LayoutModel",
          "state": {
            "_view_name": "LayoutView",
            "grid_template_rows": null,
            "right": null,
            "justify_content": null,
            "_view_module": "@jupyter-widgets/base",
            "overflow": null,
            "_model_module_version": "1.2.0",
            "_view_count": null,
            "flex_flow": null,
            "width": null,
            "min_width": null,
            "border": null,
            "align_items": null,
            "bottom": null,
            "_model_module": "@jupyter-widgets/base",
            "top": null,
            "grid_column": null,
            "overflow_y": null,
            "overflow_x": null,
            "grid_auto_flow": null,
            "grid_area": null,
            "grid_template_columns": null,
            "flex": null,
            "_model_name": "LayoutModel",
            "justify_items": null,
            "grid_row": null,
            "max_height": null,
            "align_content": null,
            "visibility": null,
            "align_self": null,
            "height": null,
            "min_height": null,
            "padding": null,
            "grid_auto_rows": null,
            "grid_gap": null,
            "max_width": null,
            "order": null,
            "_view_module_version": "1.2.0",
            "grid_template_areas": null,
            "object_position": null,
            "object_fit": null,
            "grid_auto_columns": null,
            "margin": null,
            "display": null,
            "left": null
          }
        },
        "c9177f3899f44a9a87c61459475c98bd": {
          "model_module": "@jupyter-widgets/controls",
          "model_name": "FloatProgressModel",
          "state": {
            "_view_name": "ProgressView",
            "style": "IPY_MODEL_a1bf01716c7a4bbcbf34256d337b5448",
            "_dom_classes": [],
            "description": "",
            "_model_name": "FloatProgressModel",
            "bar_style": "success",
            "max": 9912422,
            "_view_module": "@jupyter-widgets/controls",
            "_model_module_version": "1.5.0",
            "value": 9912422,
            "_view_count": null,
            "_view_module_version": "1.5.0",
            "orientation": "horizontal",
            "min": 0,
            "description_tooltip": null,
            "_model_module": "@jupyter-widgets/controls",
            "layout": "IPY_MODEL_7452729528214560a3e200a335e1cf2a"
          }
        },
        "706c8b79d2c9483baa3dacd8742b0f7e": {
          "model_module": "@jupyter-widgets/controls",
          "model_name": "HTMLModel",
          "state": {
            "_view_name": "HTMLView",
            "style": "IPY_MODEL_2f4e4c97dc824c68adf1a1cd56b1bfa8",
            "_dom_classes": [],
            "description": "",
            "_model_name": "HTMLModel",
            "placeholder": "​",
            "_view_module": "@jupyter-widgets/controls",
            "_model_module_version": "1.5.0",
            "value": " 9913344/? [00:06&lt;00:00, 1626629.01it/s]",
            "_view_count": null,
            "_view_module_version": "1.5.0",
            "description_tooltip": null,
            "_model_module": "@jupyter-widgets/controls",
            "layout": "IPY_MODEL_307fb1a7eb91473faf87e75270e4225a"
          }
        },
        "a1bf01716c7a4bbcbf34256d337b5448": {
          "model_module": "@jupyter-widgets/controls",
          "model_name": "ProgressStyleModel",
          "state": {
            "_view_name": "StyleView",
            "_model_name": "ProgressStyleModel",
            "description_width": "initial",
            "_view_module": "@jupyter-widgets/base",
            "_model_module_version": "1.5.0",
            "_view_count": null,
            "_view_module_version": "1.2.0",
            "bar_color": null,
            "_model_module": "@jupyter-widgets/controls"
          }
        },
        "7452729528214560a3e200a335e1cf2a": {
          "model_module": "@jupyter-widgets/base",
          "model_name": "LayoutModel",
          "state": {
            "_view_name": "LayoutView",
            "grid_template_rows": null,
            "right": null,
            "justify_content": null,
            "_view_module": "@jupyter-widgets/base",
            "overflow": null,
            "_model_module_version": "1.2.0",
            "_view_count": null,
            "flex_flow": null,
            "width": null,
            "min_width": null,
            "border": null,
            "align_items": null,
            "bottom": null,
            "_model_module": "@jupyter-widgets/base",
            "top": null,
            "grid_column": null,
            "overflow_y": null,
            "overflow_x": null,
            "grid_auto_flow": null,
            "grid_area": null,
            "grid_template_columns": null,
            "flex": null,
            "_model_name": "LayoutModel",
            "justify_items": null,
            "grid_row": null,
            "max_height": null,
            "align_content": null,
            "visibility": null,
            "align_self": null,
            "height": null,
            "min_height": null,
            "padding": null,
            "grid_auto_rows": null,
            "grid_gap": null,
            "max_width": null,
            "order": null,
            "_view_module_version": "1.2.0",
            "grid_template_areas": null,
            "object_position": null,
            "object_fit": null,
            "grid_auto_columns": null,
            "margin": null,
            "display": null,
            "left": null
          }
        },
        "2f4e4c97dc824c68adf1a1cd56b1bfa8": {
          "model_module": "@jupyter-widgets/controls",
          "model_name": "DescriptionStyleModel",
          "state": {
            "_view_name": "StyleView",
            "_model_name": "DescriptionStyleModel",
            "description_width": "",
            "_view_module": "@jupyter-widgets/base",
            "_model_module_version": "1.5.0",
            "_view_count": null,
            "_view_module_version": "1.2.0",
            "_model_module": "@jupyter-widgets/controls"
          }
        },
        "307fb1a7eb91473faf87e75270e4225a": {
          "model_module": "@jupyter-widgets/base",
          "model_name": "LayoutModel",
          "state": {
            "_view_name": "LayoutView",
            "grid_template_rows": null,
            "right": null,
            "justify_content": null,
            "_view_module": "@jupyter-widgets/base",
            "overflow": null,
            "_model_module_version": "1.2.0",
            "_view_count": null,
            "flex_flow": null,
            "width": null,
            "min_width": null,
            "border": null,
            "align_items": null,
            "bottom": null,
            "_model_module": "@jupyter-widgets/base",
            "top": null,
            "grid_column": null,
            "overflow_y": null,
            "overflow_x": null,
            "grid_auto_flow": null,
            "grid_area": null,
            "grid_template_columns": null,
            "flex": null,
            "_model_name": "LayoutModel",
            "justify_items": null,
            "grid_row": null,
            "max_height": null,
            "align_content": null,
            "visibility": null,
            "align_self": null,
            "height": null,
            "min_height": null,
            "padding": null,
            "grid_auto_rows": null,
            "grid_gap": null,
            "max_width": null,
            "order": null,
            "_view_module_version": "1.2.0",
            "grid_template_areas": null,
            "object_position": null,
            "object_fit": null,
            "grid_auto_columns": null,
            "margin": null,
            "display": null,
            "left": null
          }
        },
        "0e9f60c9a529402582efe2b4e11a84e4": {
          "model_module": "@jupyter-widgets/controls",
          "model_name": "HBoxModel",
          "state": {
            "_view_name": "HBoxView",
            "_dom_classes": [],
            "_model_name": "HBoxModel",
            "_view_module": "@jupyter-widgets/controls",
            "_model_module_version": "1.5.0",
            "_view_count": null,
            "_view_module_version": "1.5.0",
            "box_style": "",
            "layout": "IPY_MODEL_49aaba1a2d1941989b2109ae9b610aad",
            "_model_module": "@jupyter-widgets/controls",
            "children": [
              "IPY_MODEL_67cf1bc4eb544b779f58c02ea4971eec",
              "IPY_MODEL_7e88afe91e0a4a47a38f5bd9c8897a78"
            ]
          }
        },
        "49aaba1a2d1941989b2109ae9b610aad": {
          "model_module": "@jupyter-widgets/base",
          "model_name": "LayoutModel",
          "state": {
            "_view_name": "LayoutView",
            "grid_template_rows": null,
            "right": null,
            "justify_content": null,
            "_view_module": "@jupyter-widgets/base",
            "overflow": null,
            "_model_module_version": "1.2.0",
            "_view_count": null,
            "flex_flow": null,
            "width": null,
            "min_width": null,
            "border": null,
            "align_items": null,
            "bottom": null,
            "_model_module": "@jupyter-widgets/base",
            "top": null,
            "grid_column": null,
            "overflow_y": null,
            "overflow_x": null,
            "grid_auto_flow": null,
            "grid_area": null,
            "grid_template_columns": null,
            "flex": null,
            "_model_name": "LayoutModel",
            "justify_items": null,
            "grid_row": null,
            "max_height": null,
            "align_content": null,
            "visibility": null,
            "align_self": null,
            "height": null,
            "min_height": null,
            "padding": null,
            "grid_auto_rows": null,
            "grid_gap": null,
            "max_width": null,
            "order": null,
            "_view_module_version": "1.2.0",
            "grid_template_areas": null,
            "object_position": null,
            "object_fit": null,
            "grid_auto_columns": null,
            "margin": null,
            "display": null,
            "left": null
          }
        },
        "67cf1bc4eb544b779f58c02ea4971eec": {
          "model_module": "@jupyter-widgets/controls",
          "model_name": "FloatProgressModel",
          "state": {
            "_view_name": "ProgressView",
            "style": "IPY_MODEL_a2c64f2cf6bf498fa7b53d0adeec36f5",
            "_dom_classes": [],
            "description": "",
            "_model_name": "FloatProgressModel",
            "bar_style": "success",
            "max": 28881,
            "_view_module": "@jupyter-widgets/controls",
            "_model_module_version": "1.5.0",
            "value": 28881,
            "_view_count": null,
            "_view_module_version": "1.5.0",
            "orientation": "horizontal",
            "min": 0,
            "description_tooltip": null,
            "_model_module": "@jupyter-widgets/controls",
            "layout": "IPY_MODEL_521d4beac66542a2b2aac1561f6a3adf"
          }
        },
        "7e88afe91e0a4a47a38f5bd9c8897a78": {
          "model_module": "@jupyter-widgets/controls",
          "model_name": "HTMLModel",
          "state": {
            "_view_name": "HTMLView",
            "style": "IPY_MODEL_0b7d2d51a4474c3da008c99873eececd",
            "_dom_classes": [],
            "description": "",
            "_model_name": "HTMLModel",
            "placeholder": "​",
            "_view_module": "@jupyter-widgets/controls",
            "_model_module_version": "1.5.0",
            "value": " 29696/? [00:04&lt;00:00, 6142.80it/s]",
            "_view_count": null,
            "_view_module_version": "1.5.0",
            "description_tooltip": null,
            "_model_module": "@jupyter-widgets/controls",
            "layout": "IPY_MODEL_5e90854a0da046e6bde4070d175f2b79"
          }
        },
        "a2c64f2cf6bf498fa7b53d0adeec36f5": {
          "model_module": "@jupyter-widgets/controls",
          "model_name": "ProgressStyleModel",
          "state": {
            "_view_name": "StyleView",
            "_model_name": "ProgressStyleModel",
            "description_width": "initial",
            "_view_module": "@jupyter-widgets/base",
            "_model_module_version": "1.5.0",
            "_view_count": null,
            "_view_module_version": "1.2.0",
            "bar_color": null,
            "_model_module": "@jupyter-widgets/controls"
          }
        },
        "521d4beac66542a2b2aac1561f6a3adf": {
          "model_module": "@jupyter-widgets/base",
          "model_name": "LayoutModel",
          "state": {
            "_view_name": "LayoutView",
            "grid_template_rows": null,
            "right": null,
            "justify_content": null,
            "_view_module": "@jupyter-widgets/base",
            "overflow": null,
            "_model_module_version": "1.2.0",
            "_view_count": null,
            "flex_flow": null,
            "width": null,
            "min_width": null,
            "border": null,
            "align_items": null,
            "bottom": null,
            "_model_module": "@jupyter-widgets/base",
            "top": null,
            "grid_column": null,
            "overflow_y": null,
            "overflow_x": null,
            "grid_auto_flow": null,
            "grid_area": null,
            "grid_template_columns": null,
            "flex": null,
            "_model_name": "LayoutModel",
            "justify_items": null,
            "grid_row": null,
            "max_height": null,
            "align_content": null,
            "visibility": null,
            "align_self": null,
            "height": null,
            "min_height": null,
            "padding": null,
            "grid_auto_rows": null,
            "grid_gap": null,
            "max_width": null,
            "order": null,
            "_view_module_version": "1.2.0",
            "grid_template_areas": null,
            "object_position": null,
            "object_fit": null,
            "grid_auto_columns": null,
            "margin": null,
            "display": null,
            "left": null
          }
        },
        "0b7d2d51a4474c3da008c99873eececd": {
          "model_module": "@jupyter-widgets/controls",
          "model_name": "DescriptionStyleModel",
          "state": {
            "_view_name": "StyleView",
            "_model_name": "DescriptionStyleModel",
            "description_width": "",
            "_view_module": "@jupyter-widgets/base",
            "_model_module_version": "1.5.0",
            "_view_count": null,
            "_view_module_version": "1.2.0",
            "_model_module": "@jupyter-widgets/controls"
          }
        },
        "5e90854a0da046e6bde4070d175f2b79": {
          "model_module": "@jupyter-widgets/base",
          "model_name": "LayoutModel",
          "state": {
            "_view_name": "LayoutView",
            "grid_template_rows": null,
            "right": null,
            "justify_content": null,
            "_view_module": "@jupyter-widgets/base",
            "overflow": null,
            "_model_module_version": "1.2.0",
            "_view_count": null,
            "flex_flow": null,
            "width": null,
            "min_width": null,
            "border": null,
            "align_items": null,
            "bottom": null,
            "_model_module": "@jupyter-widgets/base",
            "top": null,
            "grid_column": null,
            "overflow_y": null,
            "overflow_x": null,
            "grid_auto_flow": null,
            "grid_area": null,
            "grid_template_columns": null,
            "flex": null,
            "_model_name": "LayoutModel",
            "justify_items": null,
            "grid_row": null,
            "max_height": null,
            "align_content": null,
            "visibility": null,
            "align_self": null,
            "height": null,
            "min_height": null,
            "padding": null,
            "grid_auto_rows": null,
            "grid_gap": null,
            "max_width": null,
            "order": null,
            "_view_module_version": "1.2.0",
            "grid_template_areas": null,
            "object_position": null,
            "object_fit": null,
            "grid_auto_columns": null,
            "margin": null,
            "display": null,
            "left": null
          }
        },
        "261b54db3e8e4b9bb0ceb27a3e0a87ea": {
          "model_module": "@jupyter-widgets/controls",
          "model_name": "HBoxModel",
          "state": {
            "_view_name": "HBoxView",
            "_dom_classes": [],
            "_model_name": "HBoxModel",
            "_view_module": "@jupyter-widgets/controls",
            "_model_module_version": "1.5.0",
            "_view_count": null,
            "_view_module_version": "1.5.0",
            "box_style": "",
            "layout": "IPY_MODEL_28491ac86c0c4c4ea2937f206676a28b",
            "_model_module": "@jupyter-widgets/controls",
            "children": [
              "IPY_MODEL_fa3d9f49a89a4ef684f65b771fe19529",
              "IPY_MODEL_640ba84a352349ee877d27ddf031f705"
            ]
          }
        },
        "28491ac86c0c4c4ea2937f206676a28b": {
          "model_module": "@jupyter-widgets/base",
          "model_name": "LayoutModel",
          "state": {
            "_view_name": "LayoutView",
            "grid_template_rows": null,
            "right": null,
            "justify_content": null,
            "_view_module": "@jupyter-widgets/base",
            "overflow": null,
            "_model_module_version": "1.2.0",
            "_view_count": null,
            "flex_flow": null,
            "width": null,
            "min_width": null,
            "border": null,
            "align_items": null,
            "bottom": null,
            "_model_module": "@jupyter-widgets/base",
            "top": null,
            "grid_column": null,
            "overflow_y": null,
            "overflow_x": null,
            "grid_auto_flow": null,
            "grid_area": null,
            "grid_template_columns": null,
            "flex": null,
            "_model_name": "LayoutModel",
            "justify_items": null,
            "grid_row": null,
            "max_height": null,
            "align_content": null,
            "visibility": null,
            "align_self": null,
            "height": null,
            "min_height": null,
            "padding": null,
            "grid_auto_rows": null,
            "grid_gap": null,
            "max_width": null,
            "order": null,
            "_view_module_version": "1.2.0",
            "grid_template_areas": null,
            "object_position": null,
            "object_fit": null,
            "grid_auto_columns": null,
            "margin": null,
            "display": null,
            "left": null
          }
        },
        "fa3d9f49a89a4ef684f65b771fe19529": {
          "model_module": "@jupyter-widgets/controls",
          "model_name": "FloatProgressModel",
          "state": {
            "_view_name": "ProgressView",
            "style": "IPY_MODEL_5591c357a41a468281f407501ebf539e",
            "_dom_classes": [],
            "description": "",
            "_model_name": "FloatProgressModel",
            "bar_style": "success",
            "max": 1648877,
            "_view_module": "@jupyter-widgets/controls",
            "_model_module_version": "1.5.0",
            "value": 1648877,
            "_view_count": null,
            "_view_module_version": "1.5.0",
            "orientation": "horizontal",
            "min": 0,
            "description_tooltip": null,
            "_model_module": "@jupyter-widgets/controls",
            "layout": "IPY_MODEL_ed907c6746a8403794077883cfa35623"
          }
        },
        "640ba84a352349ee877d27ddf031f705": {
          "model_module": "@jupyter-widgets/controls",
          "model_name": "HTMLModel",
          "state": {
            "_view_name": "HTMLView",
            "style": "IPY_MODEL_5510f861111c41acbf1bf0594628aece",
            "_dom_classes": [],
            "description": "",
            "_model_name": "HTMLModel",
            "placeholder": "​",
            "_view_module": "@jupyter-widgets/controls",
            "_model_module_version": "1.5.0",
            "value": " 1649664/? [00:01&lt;00:00, 1321689.96it/s]",
            "_view_count": null,
            "_view_module_version": "1.5.0",
            "description_tooltip": null,
            "_model_module": "@jupyter-widgets/controls",
            "layout": "IPY_MODEL_8c47f5aa163147c8ba26244c55bc93b8"
          }
        },
        "5591c357a41a468281f407501ebf539e": {
          "model_module": "@jupyter-widgets/controls",
          "model_name": "ProgressStyleModel",
          "state": {
            "_view_name": "StyleView",
            "_model_name": "ProgressStyleModel",
            "description_width": "initial",
            "_view_module": "@jupyter-widgets/base",
            "_model_module_version": "1.5.0",
            "_view_count": null,
            "_view_module_version": "1.2.0",
            "bar_color": null,
            "_model_module": "@jupyter-widgets/controls"
          }
        },
        "ed907c6746a8403794077883cfa35623": {
          "model_module": "@jupyter-widgets/base",
          "model_name": "LayoutModel",
          "state": {
            "_view_name": "LayoutView",
            "grid_template_rows": null,
            "right": null,
            "justify_content": null,
            "_view_module": "@jupyter-widgets/base",
            "overflow": null,
            "_model_module_version": "1.2.0",
            "_view_count": null,
            "flex_flow": null,
            "width": null,
            "min_width": null,
            "border": null,
            "align_items": null,
            "bottom": null,
            "_model_module": "@jupyter-widgets/base",
            "top": null,
            "grid_column": null,
            "overflow_y": null,
            "overflow_x": null,
            "grid_auto_flow": null,
            "grid_area": null,
            "grid_template_columns": null,
            "flex": null,
            "_model_name": "LayoutModel",
            "justify_items": null,
            "grid_row": null,
            "max_height": null,
            "align_content": null,
            "visibility": null,
            "align_self": null,
            "height": null,
            "min_height": null,
            "padding": null,
            "grid_auto_rows": null,
            "grid_gap": null,
            "max_width": null,
            "order": null,
            "_view_module_version": "1.2.0",
            "grid_template_areas": null,
            "object_position": null,
            "object_fit": null,
            "grid_auto_columns": null,
            "margin": null,
            "display": null,
            "left": null
          }
        },
        "5510f861111c41acbf1bf0594628aece": {
          "model_module": "@jupyter-widgets/controls",
          "model_name": "DescriptionStyleModel",
          "state": {
            "_view_name": "StyleView",
            "_model_name": "DescriptionStyleModel",
            "description_width": "",
            "_view_module": "@jupyter-widgets/base",
            "_model_module_version": "1.5.0",
            "_view_count": null,
            "_view_module_version": "1.2.0",
            "_model_module": "@jupyter-widgets/controls"
          }
        },
        "8c47f5aa163147c8ba26244c55bc93b8": {
          "model_module": "@jupyter-widgets/base",
          "model_name": "LayoutModel",
          "state": {
            "_view_name": "LayoutView",
            "grid_template_rows": null,
            "right": null,
            "justify_content": null,
            "_view_module": "@jupyter-widgets/base",
            "overflow": null,
            "_model_module_version": "1.2.0",
            "_view_count": null,
            "flex_flow": null,
            "width": null,
            "min_width": null,
            "border": null,
            "align_items": null,
            "bottom": null,
            "_model_module": "@jupyter-widgets/base",
            "top": null,
            "grid_column": null,
            "overflow_y": null,
            "overflow_x": null,
            "grid_auto_flow": null,
            "grid_area": null,
            "grid_template_columns": null,
            "flex": null,
            "_model_name": "LayoutModel",
            "justify_items": null,
            "grid_row": null,
            "max_height": null,
            "align_content": null,
            "visibility": null,
            "align_self": null,
            "height": null,
            "min_height": null,
            "padding": null,
            "grid_auto_rows": null,
            "grid_gap": null,
            "max_width": null,
            "order": null,
            "_view_module_version": "1.2.0",
            "grid_template_areas": null,
            "object_position": null,
            "object_fit": null,
            "grid_auto_columns": null,
            "margin": null,
            "display": null,
            "left": null
          }
        },
        "3bddf8e6119f43b898c97fa60f29d4cd": {
          "model_module": "@jupyter-widgets/controls",
          "model_name": "HBoxModel",
          "state": {
            "_view_name": "HBoxView",
            "_dom_classes": [],
            "_model_name": "HBoxModel",
            "_view_module": "@jupyter-widgets/controls",
            "_model_module_version": "1.5.0",
            "_view_count": null,
            "_view_module_version": "1.5.0",
            "box_style": "",
            "layout": "IPY_MODEL_9e3a57408ff84477a8001f8fea659165",
            "_model_module": "@jupyter-widgets/controls",
            "children": [
              "IPY_MODEL_a914a802afdf451395e9b1ee5fd5c97b",
              "IPY_MODEL_4841ba81d9114b7e8ee4484f3bd8b0d4"
            ]
          }
        },
        "9e3a57408ff84477a8001f8fea659165": {
          "model_module": "@jupyter-widgets/base",
          "model_name": "LayoutModel",
          "state": {
            "_view_name": "LayoutView",
            "grid_template_rows": null,
            "right": null,
            "justify_content": null,
            "_view_module": "@jupyter-widgets/base",
            "overflow": null,
            "_model_module_version": "1.2.0",
            "_view_count": null,
            "flex_flow": null,
            "width": null,
            "min_width": null,
            "border": null,
            "align_items": null,
            "bottom": null,
            "_model_module": "@jupyter-widgets/base",
            "top": null,
            "grid_column": null,
            "overflow_y": null,
            "overflow_x": null,
            "grid_auto_flow": null,
            "grid_area": null,
            "grid_template_columns": null,
            "flex": null,
            "_model_name": "LayoutModel",
            "justify_items": null,
            "grid_row": null,
            "max_height": null,
            "align_content": null,
            "visibility": null,
            "align_self": null,
            "height": null,
            "min_height": null,
            "padding": null,
            "grid_auto_rows": null,
            "grid_gap": null,
            "max_width": null,
            "order": null,
            "_view_module_version": "1.2.0",
            "grid_template_areas": null,
            "object_position": null,
            "object_fit": null,
            "grid_auto_columns": null,
            "margin": null,
            "display": null,
            "left": null
          }
        },
        "a914a802afdf451395e9b1ee5fd5c97b": {
          "model_module": "@jupyter-widgets/controls",
          "model_name": "FloatProgressModel",
          "state": {
            "_view_name": "ProgressView",
            "style": "IPY_MODEL_9d5ab86c7b384cf8b2d0a95147c010c7",
            "_dom_classes": [],
            "description": "",
            "_model_name": "FloatProgressModel",
            "bar_style": "success",
            "max": 4542,
            "_view_module": "@jupyter-widgets/controls",
            "_model_module_version": "1.5.0",
            "value": 4542,
            "_view_count": null,
            "_view_module_version": "1.5.0",
            "orientation": "horizontal",
            "min": 0,
            "description_tooltip": null,
            "_model_module": "@jupyter-widgets/controls",
            "layout": "IPY_MODEL_a55ed7e2f6f34d7c81c48bd6cd723659"
          }
        },
        "4841ba81d9114b7e8ee4484f3bd8b0d4": {
          "model_module": "@jupyter-widgets/controls",
          "model_name": "HTMLModel",
          "state": {
            "_view_name": "HTMLView",
            "style": "IPY_MODEL_3123cfd207c64147b3970748184e812a",
            "_dom_classes": [],
            "description": "",
            "_model_name": "HTMLModel",
            "placeholder": "​",
            "_view_module": "@jupyter-widgets/controls",
            "_model_module_version": "1.5.0",
            "value": " 5120/? [00:00&lt;00:00, 11153.65it/s]",
            "_view_count": null,
            "_view_module_version": "1.5.0",
            "description_tooltip": null,
            "_model_module": "@jupyter-widgets/controls",
            "layout": "IPY_MODEL_dfc083105fb14b48afd3acb73fe7cf59"
          }
        },
        "9d5ab86c7b384cf8b2d0a95147c010c7": {
          "model_module": "@jupyter-widgets/controls",
          "model_name": "ProgressStyleModel",
          "state": {
            "_view_name": "StyleView",
            "_model_name": "ProgressStyleModel",
            "description_width": "initial",
            "_view_module": "@jupyter-widgets/base",
            "_model_module_version": "1.5.0",
            "_view_count": null,
            "_view_module_version": "1.2.0",
            "bar_color": null,
            "_model_module": "@jupyter-widgets/controls"
          }
        },
        "a55ed7e2f6f34d7c81c48bd6cd723659": {
          "model_module": "@jupyter-widgets/base",
          "model_name": "LayoutModel",
          "state": {
            "_view_name": "LayoutView",
            "grid_template_rows": null,
            "right": null,
            "justify_content": null,
            "_view_module": "@jupyter-widgets/base",
            "overflow": null,
            "_model_module_version": "1.2.0",
            "_view_count": null,
            "flex_flow": null,
            "width": null,
            "min_width": null,
            "border": null,
            "align_items": null,
            "bottom": null,
            "_model_module": "@jupyter-widgets/base",
            "top": null,
            "grid_column": null,
            "overflow_y": null,
            "overflow_x": null,
            "grid_auto_flow": null,
            "grid_area": null,
            "grid_template_columns": null,
            "flex": null,
            "_model_name": "LayoutModel",
            "justify_items": null,
            "grid_row": null,
            "max_height": null,
            "align_content": null,
            "visibility": null,
            "align_self": null,
            "height": null,
            "min_height": null,
            "padding": null,
            "grid_auto_rows": null,
            "grid_gap": null,
            "max_width": null,
            "order": null,
            "_view_module_version": "1.2.0",
            "grid_template_areas": null,
            "object_position": null,
            "object_fit": null,
            "grid_auto_columns": null,
            "margin": null,
            "display": null,
            "left": null
          }
        },
        "3123cfd207c64147b3970748184e812a": {
          "model_module": "@jupyter-widgets/controls",
          "model_name": "DescriptionStyleModel",
          "state": {
            "_view_name": "StyleView",
            "_model_name": "DescriptionStyleModel",
            "description_width": "",
            "_view_module": "@jupyter-widgets/base",
            "_model_module_version": "1.5.0",
            "_view_count": null,
            "_view_module_version": "1.2.0",
            "_model_module": "@jupyter-widgets/controls"
          }
        },
        "dfc083105fb14b48afd3acb73fe7cf59": {
          "model_module": "@jupyter-widgets/base",
          "model_name": "LayoutModel",
          "state": {
            "_view_name": "LayoutView",
            "grid_template_rows": null,
            "right": null,
            "justify_content": null,
            "_view_module": "@jupyter-widgets/base",
            "overflow": null,
            "_model_module_version": "1.2.0",
            "_view_count": null,
            "flex_flow": null,
            "width": null,
            "min_width": null,
            "border": null,
            "align_items": null,
            "bottom": null,
            "_model_module": "@jupyter-widgets/base",
            "top": null,
            "grid_column": null,
            "overflow_y": null,
            "overflow_x": null,
            "grid_auto_flow": null,
            "grid_area": null,
            "grid_template_columns": null,
            "flex": null,
            "_model_name": "LayoutModel",
            "justify_items": null,
            "grid_row": null,
            "max_height": null,
            "align_content": null,
            "visibility": null,
            "align_self": null,
            "height": null,
            "min_height": null,
            "padding": null,
            "grid_auto_rows": null,
            "grid_gap": null,
            "max_width": null,
            "order": null,
            "_view_module_version": "1.2.0",
            "grid_template_areas": null,
            "object_position": null,
            "object_fit": null,
            "grid_auto_columns": null,
            "margin": null,
            "display": null,
            "left": null
          }
        },
        "8744b020d7274a4b85b68fa259f4f951": {
          "model_module": "@jupyter-widgets/controls",
          "model_name": "HBoxModel",
          "state": {
            "_view_name": "HBoxView",
            "_dom_classes": [],
            "_model_name": "HBoxModel",
            "_view_module": "@jupyter-widgets/controls",
            "_model_module_version": "1.5.0",
            "_view_count": null,
            "_view_module_version": "1.5.0",
            "box_style": "",
            "layout": "IPY_MODEL_a860a2b2a9d14415aa171cc5332951a4",
            "_model_module": "@jupyter-widgets/controls",
            "children": [
              "IPY_MODEL_96c2ceab8e26408c9547e907e7ac3696",
              "IPY_MODEL_ebd50a57f78745ed9eeedbe0b96297ee"
            ]
          }
        },
        "a860a2b2a9d14415aa171cc5332951a4": {
          "model_module": "@jupyter-widgets/base",
          "model_name": "LayoutModel",
          "state": {
            "_view_name": "LayoutView",
            "grid_template_rows": null,
            "right": null,
            "justify_content": null,
            "_view_module": "@jupyter-widgets/base",
            "overflow": null,
            "_model_module_version": "1.2.0",
            "_view_count": null,
            "flex_flow": null,
            "width": null,
            "min_width": null,
            "border": null,
            "align_items": null,
            "bottom": null,
            "_model_module": "@jupyter-widgets/base",
            "top": null,
            "grid_column": null,
            "overflow_y": null,
            "overflow_x": null,
            "grid_auto_flow": null,
            "grid_area": null,
            "grid_template_columns": null,
            "flex": null,
            "_model_name": "LayoutModel",
            "justify_items": null,
            "grid_row": null,
            "max_height": null,
            "align_content": null,
            "visibility": null,
            "align_self": null,
            "height": null,
            "min_height": null,
            "padding": null,
            "grid_auto_rows": null,
            "grid_gap": null,
            "max_width": null,
            "order": null,
            "_view_module_version": "1.2.0",
            "grid_template_areas": null,
            "object_position": null,
            "object_fit": null,
            "grid_auto_columns": null,
            "margin": null,
            "display": null,
            "left": null
          }
        },
        "96c2ceab8e26408c9547e907e7ac3696": {
          "model_module": "@jupyter-widgets/controls",
          "model_name": "FloatProgressModel",
          "state": {
            "_view_name": "ProgressView",
            "style": "IPY_MODEL_4e6b03c713a9447fbf4b26c466d3b340",
            "_dom_classes": [],
            "description": "",
            "_model_name": "FloatProgressModel",
            "bar_style": "success",
            "max": 9912422,
            "_view_module": "@jupyter-widgets/controls",
            "_model_module_version": "1.5.0",
            "value": 9912422,
            "_view_count": null,
            "_view_module_version": "1.5.0",
            "orientation": "horizontal",
            "min": 0,
            "description_tooltip": null,
            "_model_module": "@jupyter-widgets/controls",
            "layout": "IPY_MODEL_431e328453b0434d91068e08b3fc03b3"
          }
        },
        "ebd50a57f78745ed9eeedbe0b96297ee": {
          "model_module": "@jupyter-widgets/controls",
          "model_name": "HTMLModel",
          "state": {
            "_view_name": "HTMLView",
            "style": "IPY_MODEL_3a94dbadaeab4fedb45c756c05e16265",
            "_dom_classes": [],
            "description": "",
            "_model_name": "HTMLModel",
            "placeholder": "​",
            "_view_module": "@jupyter-widgets/controls",
            "_model_module_version": "1.5.0",
            "value": " 9913344/? [00:03&lt;00:00, 3161874.19it/s]",
            "_view_count": null,
            "_view_module_version": "1.5.0",
            "description_tooltip": null,
            "_model_module": "@jupyter-widgets/controls",
            "layout": "IPY_MODEL_c4b35b69cbc941118ed46264a79bba71"
          }
        },
        "4e6b03c713a9447fbf4b26c466d3b340": {
          "model_module": "@jupyter-widgets/controls",
          "model_name": "ProgressStyleModel",
          "state": {
            "_view_name": "StyleView",
            "_model_name": "ProgressStyleModel",
            "description_width": "initial",
            "_view_module": "@jupyter-widgets/base",
            "_model_module_version": "1.5.0",
            "_view_count": null,
            "_view_module_version": "1.2.0",
            "bar_color": null,
            "_model_module": "@jupyter-widgets/controls"
          }
        },
        "431e328453b0434d91068e08b3fc03b3": {
          "model_module": "@jupyter-widgets/base",
          "model_name": "LayoutModel",
          "state": {
            "_view_name": "LayoutView",
            "grid_template_rows": null,
            "right": null,
            "justify_content": null,
            "_view_module": "@jupyter-widgets/base",
            "overflow": null,
            "_model_module_version": "1.2.0",
            "_view_count": null,
            "flex_flow": null,
            "width": null,
            "min_width": null,
            "border": null,
            "align_items": null,
            "bottom": null,
            "_model_module": "@jupyter-widgets/base",
            "top": null,
            "grid_column": null,
            "overflow_y": null,
            "overflow_x": null,
            "grid_auto_flow": null,
            "grid_area": null,
            "grid_template_columns": null,
            "flex": null,
            "_model_name": "LayoutModel",
            "justify_items": null,
            "grid_row": null,
            "max_height": null,
            "align_content": null,
            "visibility": null,
            "align_self": null,
            "height": null,
            "min_height": null,
            "padding": null,
            "grid_auto_rows": null,
            "grid_gap": null,
            "max_width": null,
            "order": null,
            "_view_module_version": "1.2.0",
            "grid_template_areas": null,
            "object_position": null,
            "object_fit": null,
            "grid_auto_columns": null,
            "margin": null,
            "display": null,
            "left": null
          }
        },
        "3a94dbadaeab4fedb45c756c05e16265": {
          "model_module": "@jupyter-widgets/controls",
          "model_name": "DescriptionStyleModel",
          "state": {
            "_view_name": "StyleView",
            "_model_name": "DescriptionStyleModel",
            "description_width": "",
            "_view_module": "@jupyter-widgets/base",
            "_model_module_version": "1.5.0",
            "_view_count": null,
            "_view_module_version": "1.2.0",
            "_model_module": "@jupyter-widgets/controls"
          }
        },
        "c4b35b69cbc941118ed46264a79bba71": {
          "model_module": "@jupyter-widgets/base",
          "model_name": "LayoutModel",
          "state": {
            "_view_name": "LayoutView",
            "grid_template_rows": null,
            "right": null,
            "justify_content": null,
            "_view_module": "@jupyter-widgets/base",
            "overflow": null,
            "_model_module_version": "1.2.0",
            "_view_count": null,
            "flex_flow": null,
            "width": null,
            "min_width": null,
            "border": null,
            "align_items": null,
            "bottom": null,
            "_model_module": "@jupyter-widgets/base",
            "top": null,
            "grid_column": null,
            "overflow_y": null,
            "overflow_x": null,
            "grid_auto_flow": null,
            "grid_area": null,
            "grid_template_columns": null,
            "flex": null,
            "_model_name": "LayoutModel",
            "justify_items": null,
            "grid_row": null,
            "max_height": null,
            "align_content": null,
            "visibility": null,
            "align_self": null,
            "height": null,
            "min_height": null,
            "padding": null,
            "grid_auto_rows": null,
            "grid_gap": null,
            "max_width": null,
            "order": null,
            "_view_module_version": "1.2.0",
            "grid_template_areas": null,
            "object_position": null,
            "object_fit": null,
            "grid_auto_columns": null,
            "margin": null,
            "display": null,
            "left": null
          }
        },
        "565f143d939c42568320aa9a6c2d18ac": {
          "model_module": "@jupyter-widgets/controls",
          "model_name": "HBoxModel",
          "state": {
            "_view_name": "HBoxView",
            "_dom_classes": [],
            "_model_name": "HBoxModel",
            "_view_module": "@jupyter-widgets/controls",
            "_model_module_version": "1.5.0",
            "_view_count": null,
            "_view_module_version": "1.5.0",
            "box_style": "",
            "layout": "IPY_MODEL_126d9ef14ca54cbd8fb3b8463ef84b66",
            "_model_module": "@jupyter-widgets/controls",
            "children": [
              "IPY_MODEL_f578f9a75175420b88cc8b3eb84edb52",
              "IPY_MODEL_cb02ae5d069f4edd8125c1a505c06058"
            ]
          }
        },
        "126d9ef14ca54cbd8fb3b8463ef84b66": {
          "model_module": "@jupyter-widgets/base",
          "model_name": "LayoutModel",
          "state": {
            "_view_name": "LayoutView",
            "grid_template_rows": null,
            "right": null,
            "justify_content": null,
            "_view_module": "@jupyter-widgets/base",
            "overflow": null,
            "_model_module_version": "1.2.0",
            "_view_count": null,
            "flex_flow": null,
            "width": null,
            "min_width": null,
            "border": null,
            "align_items": null,
            "bottom": null,
            "_model_module": "@jupyter-widgets/base",
            "top": null,
            "grid_column": null,
            "overflow_y": null,
            "overflow_x": null,
            "grid_auto_flow": null,
            "grid_area": null,
            "grid_template_columns": null,
            "flex": null,
            "_model_name": "LayoutModel",
            "justify_items": null,
            "grid_row": null,
            "max_height": null,
            "align_content": null,
            "visibility": null,
            "align_self": null,
            "height": null,
            "min_height": null,
            "padding": null,
            "grid_auto_rows": null,
            "grid_gap": null,
            "max_width": null,
            "order": null,
            "_view_module_version": "1.2.0",
            "grid_template_areas": null,
            "object_position": null,
            "object_fit": null,
            "grid_auto_columns": null,
            "margin": null,
            "display": null,
            "left": null
          }
        },
        "f578f9a75175420b88cc8b3eb84edb52": {
          "model_module": "@jupyter-widgets/controls",
          "model_name": "FloatProgressModel",
          "state": {
            "_view_name": "ProgressView",
            "style": "IPY_MODEL_98a5c0417e2048faba1a6e4cf97c0d83",
            "_dom_classes": [],
            "description": "",
            "_model_name": "FloatProgressModel",
            "bar_style": "success",
            "max": 28881,
            "_view_module": "@jupyter-widgets/controls",
            "_model_module_version": "1.5.0",
            "value": 28881,
            "_view_count": null,
            "_view_module_version": "1.5.0",
            "orientation": "horizontal",
            "min": 0,
            "description_tooltip": null,
            "_model_module": "@jupyter-widgets/controls",
            "layout": "IPY_MODEL_1d91fd2c45e248e2833f76c02320dfbb"
          }
        },
        "cb02ae5d069f4edd8125c1a505c06058": {
          "model_module": "@jupyter-widgets/controls",
          "model_name": "HTMLModel",
          "state": {
            "_view_name": "HTMLView",
            "style": "IPY_MODEL_f691130abbdb49b49d7cec79755fe511",
            "_dom_classes": [],
            "description": "",
            "_model_name": "HTMLModel",
            "placeholder": "​",
            "_view_module": "@jupyter-widgets/controls",
            "_model_module_version": "1.5.0",
            "value": " 29696/? [00:01&lt;00:00, 26872.24it/s]",
            "_view_count": null,
            "_view_module_version": "1.5.0",
            "description_tooltip": null,
            "_model_module": "@jupyter-widgets/controls",
            "layout": "IPY_MODEL_dcfc7efa644141e1b0a0a8d200e67df1"
          }
        },
        "98a5c0417e2048faba1a6e4cf97c0d83": {
          "model_module": "@jupyter-widgets/controls",
          "model_name": "ProgressStyleModel",
          "state": {
            "_view_name": "StyleView",
            "_model_name": "ProgressStyleModel",
            "description_width": "initial",
            "_view_module": "@jupyter-widgets/base",
            "_model_module_version": "1.5.0",
            "_view_count": null,
            "_view_module_version": "1.2.0",
            "bar_color": null,
            "_model_module": "@jupyter-widgets/controls"
          }
        },
        "1d91fd2c45e248e2833f76c02320dfbb": {
          "model_module": "@jupyter-widgets/base",
          "model_name": "LayoutModel",
          "state": {
            "_view_name": "LayoutView",
            "grid_template_rows": null,
            "right": null,
            "justify_content": null,
            "_view_module": "@jupyter-widgets/base",
            "overflow": null,
            "_model_module_version": "1.2.0",
            "_view_count": null,
            "flex_flow": null,
            "width": null,
            "min_width": null,
            "border": null,
            "align_items": null,
            "bottom": null,
            "_model_module": "@jupyter-widgets/base",
            "top": null,
            "grid_column": null,
            "overflow_y": null,
            "overflow_x": null,
            "grid_auto_flow": null,
            "grid_area": null,
            "grid_template_columns": null,
            "flex": null,
            "_model_name": "LayoutModel",
            "justify_items": null,
            "grid_row": null,
            "max_height": null,
            "align_content": null,
            "visibility": null,
            "align_self": null,
            "height": null,
            "min_height": null,
            "padding": null,
            "grid_auto_rows": null,
            "grid_gap": null,
            "max_width": null,
            "order": null,
            "_view_module_version": "1.2.0",
            "grid_template_areas": null,
            "object_position": null,
            "object_fit": null,
            "grid_auto_columns": null,
            "margin": null,
            "display": null,
            "left": null
          }
        },
        "f691130abbdb49b49d7cec79755fe511": {
          "model_module": "@jupyter-widgets/controls",
          "model_name": "DescriptionStyleModel",
          "state": {
            "_view_name": "StyleView",
            "_model_name": "DescriptionStyleModel",
            "description_width": "",
            "_view_module": "@jupyter-widgets/base",
            "_model_module_version": "1.5.0",
            "_view_count": null,
            "_view_module_version": "1.2.0",
            "_model_module": "@jupyter-widgets/controls"
          }
        },
        "dcfc7efa644141e1b0a0a8d200e67df1": {
          "model_module": "@jupyter-widgets/base",
          "model_name": "LayoutModel",
          "state": {
            "_view_name": "LayoutView",
            "grid_template_rows": null,
            "right": null,
            "justify_content": null,
            "_view_module": "@jupyter-widgets/base",
            "overflow": null,
            "_model_module_version": "1.2.0",
            "_view_count": null,
            "flex_flow": null,
            "width": null,
            "min_width": null,
            "border": null,
            "align_items": null,
            "bottom": null,
            "_model_module": "@jupyter-widgets/base",
            "top": null,
            "grid_column": null,
            "overflow_y": null,
            "overflow_x": null,
            "grid_auto_flow": null,
            "grid_area": null,
            "grid_template_columns": null,
            "flex": null,
            "_model_name": "LayoutModel",
            "justify_items": null,
            "grid_row": null,
            "max_height": null,
            "align_content": null,
            "visibility": null,
            "align_self": null,
            "height": null,
            "min_height": null,
            "padding": null,
            "grid_auto_rows": null,
            "grid_gap": null,
            "max_width": null,
            "order": null,
            "_view_module_version": "1.2.0",
            "grid_template_areas": null,
            "object_position": null,
            "object_fit": null,
            "grid_auto_columns": null,
            "margin": null,
            "display": null,
            "left": null
          }
        },
        "d4cb95b925ff43f7a721f7d1424f0159": {
          "model_module": "@jupyter-widgets/controls",
          "model_name": "HBoxModel",
          "state": {
            "_view_name": "HBoxView",
            "_dom_classes": [],
            "_model_name": "HBoxModel",
            "_view_module": "@jupyter-widgets/controls",
            "_model_module_version": "1.5.0",
            "_view_count": null,
            "_view_module_version": "1.5.0",
            "box_style": "",
            "layout": "IPY_MODEL_4799ef56a05f4d24a43d5c681b4e2d8f",
            "_model_module": "@jupyter-widgets/controls",
            "children": [
              "IPY_MODEL_3ab4e7de2fa74188b2af2bfb0a8e5d89",
              "IPY_MODEL_5266046640ab4db99fc4090e931ecb13"
            ]
          }
        },
        "4799ef56a05f4d24a43d5c681b4e2d8f": {
          "model_module": "@jupyter-widgets/base",
          "model_name": "LayoutModel",
          "state": {
            "_view_name": "LayoutView",
            "grid_template_rows": null,
            "right": null,
            "justify_content": null,
            "_view_module": "@jupyter-widgets/base",
            "overflow": null,
            "_model_module_version": "1.2.0",
            "_view_count": null,
            "flex_flow": null,
            "width": null,
            "min_width": null,
            "border": null,
            "align_items": null,
            "bottom": null,
            "_model_module": "@jupyter-widgets/base",
            "top": null,
            "grid_column": null,
            "overflow_y": null,
            "overflow_x": null,
            "grid_auto_flow": null,
            "grid_area": null,
            "grid_template_columns": null,
            "flex": null,
            "_model_name": "LayoutModel",
            "justify_items": null,
            "grid_row": null,
            "max_height": null,
            "align_content": null,
            "visibility": null,
            "align_self": null,
            "height": null,
            "min_height": null,
            "padding": null,
            "grid_auto_rows": null,
            "grid_gap": null,
            "max_width": null,
            "order": null,
            "_view_module_version": "1.2.0",
            "grid_template_areas": null,
            "object_position": null,
            "object_fit": null,
            "grid_auto_columns": null,
            "margin": null,
            "display": null,
            "left": null
          }
        },
        "3ab4e7de2fa74188b2af2bfb0a8e5d89": {
          "model_module": "@jupyter-widgets/controls",
          "model_name": "FloatProgressModel",
          "state": {
            "_view_name": "ProgressView",
            "style": "IPY_MODEL_1ab0ddd086c2467aab21277787c94a8d",
            "_dom_classes": [],
            "description": "",
            "_model_name": "FloatProgressModel",
            "bar_style": "success",
            "max": 1648877,
            "_view_module": "@jupyter-widgets/controls",
            "_model_module_version": "1.5.0",
            "value": 1648877,
            "_view_count": null,
            "_view_module_version": "1.5.0",
            "orientation": "horizontal",
            "min": 0,
            "description_tooltip": null,
            "_model_module": "@jupyter-widgets/controls",
            "layout": "IPY_MODEL_b13ddad03bb640feaa718f240d590fc8"
          }
        },
        "5266046640ab4db99fc4090e931ecb13": {
          "model_module": "@jupyter-widgets/controls",
          "model_name": "HTMLModel",
          "state": {
            "_view_name": "HTMLView",
            "style": "IPY_MODEL_85a4b0b4d7f54da5a7734d72728d333d",
            "_dom_classes": [],
            "description": "",
            "_model_name": "HTMLModel",
            "placeholder": "​",
            "_view_module": "@jupyter-widgets/controls",
            "_model_module_version": "1.5.0",
            "value": " 1649664/? [00:00&lt;00:00, 2753962.19it/s]",
            "_view_count": null,
            "_view_module_version": "1.5.0",
            "description_tooltip": null,
            "_model_module": "@jupyter-widgets/controls",
            "layout": "IPY_MODEL_52d80e2ec37e4dc1b19282320fb79472"
          }
        },
        "1ab0ddd086c2467aab21277787c94a8d": {
          "model_module": "@jupyter-widgets/controls",
          "model_name": "ProgressStyleModel",
          "state": {
            "_view_name": "StyleView",
            "_model_name": "ProgressStyleModel",
            "description_width": "initial",
            "_view_module": "@jupyter-widgets/base",
            "_model_module_version": "1.5.0",
            "_view_count": null,
            "_view_module_version": "1.2.0",
            "bar_color": null,
            "_model_module": "@jupyter-widgets/controls"
          }
        },
        "b13ddad03bb640feaa718f240d590fc8": {
          "model_module": "@jupyter-widgets/base",
          "model_name": "LayoutModel",
          "state": {
            "_view_name": "LayoutView",
            "grid_template_rows": null,
            "right": null,
            "justify_content": null,
            "_view_module": "@jupyter-widgets/base",
            "overflow": null,
            "_model_module_version": "1.2.0",
            "_view_count": null,
            "flex_flow": null,
            "width": null,
            "min_width": null,
            "border": null,
            "align_items": null,
            "bottom": null,
            "_model_module": "@jupyter-widgets/base",
            "top": null,
            "grid_column": null,
            "overflow_y": null,
            "overflow_x": null,
            "grid_auto_flow": null,
            "grid_area": null,
            "grid_template_columns": null,
            "flex": null,
            "_model_name": "LayoutModel",
            "justify_items": null,
            "grid_row": null,
            "max_height": null,
            "align_content": null,
            "visibility": null,
            "align_self": null,
            "height": null,
            "min_height": null,
            "padding": null,
            "grid_auto_rows": null,
            "grid_gap": null,
            "max_width": null,
            "order": null,
            "_view_module_version": "1.2.0",
            "grid_template_areas": null,
            "object_position": null,
            "object_fit": null,
            "grid_auto_columns": null,
            "margin": null,
            "display": null,
            "left": null
          }
        },
        "85a4b0b4d7f54da5a7734d72728d333d": {
          "model_module": "@jupyter-widgets/controls",
          "model_name": "DescriptionStyleModel",
          "state": {
            "_view_name": "StyleView",
            "_model_name": "DescriptionStyleModel",
            "description_width": "",
            "_view_module": "@jupyter-widgets/base",
            "_model_module_version": "1.5.0",
            "_view_count": null,
            "_view_module_version": "1.2.0",
            "_model_module": "@jupyter-widgets/controls"
          }
        },
        "52d80e2ec37e4dc1b19282320fb79472": {
          "model_module": "@jupyter-widgets/base",
          "model_name": "LayoutModel",
          "state": {
            "_view_name": "LayoutView",
            "grid_template_rows": null,
            "right": null,
            "justify_content": null,
            "_view_module": "@jupyter-widgets/base",
            "overflow": null,
            "_model_module_version": "1.2.0",
            "_view_count": null,
            "flex_flow": null,
            "width": null,
            "min_width": null,
            "border": null,
            "align_items": null,
            "bottom": null,
            "_model_module": "@jupyter-widgets/base",
            "top": null,
            "grid_column": null,
            "overflow_y": null,
            "overflow_x": null,
            "grid_auto_flow": null,
            "grid_area": null,
            "grid_template_columns": null,
            "flex": null,
            "_model_name": "LayoutModel",
            "justify_items": null,
            "grid_row": null,
            "max_height": null,
            "align_content": null,
            "visibility": null,
            "align_self": null,
            "height": null,
            "min_height": null,
            "padding": null,
            "grid_auto_rows": null,
            "grid_gap": null,
            "max_width": null,
            "order": null,
            "_view_module_version": "1.2.0",
            "grid_template_areas": null,
            "object_position": null,
            "object_fit": null,
            "grid_auto_columns": null,
            "margin": null,
            "display": null,
            "left": null
          }
        },
        "d8546282c6f74ee5bf0e0058a217b96c": {
          "model_module": "@jupyter-widgets/controls",
          "model_name": "HBoxModel",
          "state": {
            "_view_name": "HBoxView",
            "_dom_classes": [],
            "_model_name": "HBoxModel",
            "_view_module": "@jupyter-widgets/controls",
            "_model_module_version": "1.5.0",
            "_view_count": null,
            "_view_module_version": "1.5.0",
            "box_style": "",
            "layout": "IPY_MODEL_2625ef77a7574f91a0e801ccbc35ffee",
            "_model_module": "@jupyter-widgets/controls",
            "children": [
              "IPY_MODEL_ea18d779f13d4417bd81fb805fae8529",
              "IPY_MODEL_f6ffac4d8e61449daff59027929ba997"
            ]
          }
        },
        "2625ef77a7574f91a0e801ccbc35ffee": {
          "model_module": "@jupyter-widgets/base",
          "model_name": "LayoutModel",
          "state": {
            "_view_name": "LayoutView",
            "grid_template_rows": null,
            "right": null,
            "justify_content": null,
            "_view_module": "@jupyter-widgets/base",
            "overflow": null,
            "_model_module_version": "1.2.0",
            "_view_count": null,
            "flex_flow": null,
            "width": null,
            "min_width": null,
            "border": null,
            "align_items": null,
            "bottom": null,
            "_model_module": "@jupyter-widgets/base",
            "top": null,
            "grid_column": null,
            "overflow_y": null,
            "overflow_x": null,
            "grid_auto_flow": null,
            "grid_area": null,
            "grid_template_columns": null,
            "flex": null,
            "_model_name": "LayoutModel",
            "justify_items": null,
            "grid_row": null,
            "max_height": null,
            "align_content": null,
            "visibility": null,
            "align_self": null,
            "height": null,
            "min_height": null,
            "padding": null,
            "grid_auto_rows": null,
            "grid_gap": null,
            "max_width": null,
            "order": null,
            "_view_module_version": "1.2.0",
            "grid_template_areas": null,
            "object_position": null,
            "object_fit": null,
            "grid_auto_columns": null,
            "margin": null,
            "display": null,
            "left": null
          }
        },
        "ea18d779f13d4417bd81fb805fae8529": {
          "model_module": "@jupyter-widgets/controls",
          "model_name": "FloatProgressModel",
          "state": {
            "_view_name": "ProgressView",
            "style": "IPY_MODEL_0f6dbe2195a948b38ddf186cd811c32c",
            "_dom_classes": [],
            "description": "",
            "_model_name": "FloatProgressModel",
            "bar_style": "success",
            "max": 4542,
            "_view_module": "@jupyter-widgets/controls",
            "_model_module_version": "1.5.0",
            "value": 4542,
            "_view_count": null,
            "_view_module_version": "1.5.0",
            "orientation": "horizontal",
            "min": 0,
            "description_tooltip": null,
            "_model_module": "@jupyter-widgets/controls",
            "layout": "IPY_MODEL_10a86108579f4654acef7ec35da61a08"
          }
        },
        "f6ffac4d8e61449daff59027929ba997": {
          "model_module": "@jupyter-widgets/controls",
          "model_name": "HTMLModel",
          "state": {
            "_view_name": "HTMLView",
            "style": "IPY_MODEL_1234498f3c0e4deca86d13450ffa766a",
            "_dom_classes": [],
            "description": "",
            "_model_name": "HTMLModel",
            "placeholder": "​",
            "_view_module": "@jupyter-widgets/controls",
            "_model_module_version": "1.5.0",
            "value": " 5120/? [00:00&lt;00:00, 47217.68it/s]",
            "_view_count": null,
            "_view_module_version": "1.5.0",
            "description_tooltip": null,
            "_model_module": "@jupyter-widgets/controls",
            "layout": "IPY_MODEL_f27cfe556a1c4e0ea2ff024ce3f090aa"
          }
        },
        "0f6dbe2195a948b38ddf186cd811c32c": {
          "model_module": "@jupyter-widgets/controls",
          "model_name": "ProgressStyleModel",
          "state": {
            "_view_name": "StyleView",
            "_model_name": "ProgressStyleModel",
            "description_width": "initial",
            "_view_module": "@jupyter-widgets/base",
            "_model_module_version": "1.5.0",
            "_view_count": null,
            "_view_module_version": "1.2.0",
            "bar_color": null,
            "_model_module": "@jupyter-widgets/controls"
          }
        },
        "10a86108579f4654acef7ec35da61a08": {
          "model_module": "@jupyter-widgets/base",
          "model_name": "LayoutModel",
          "state": {
            "_view_name": "LayoutView",
            "grid_template_rows": null,
            "right": null,
            "justify_content": null,
            "_view_module": "@jupyter-widgets/base",
            "overflow": null,
            "_model_module_version": "1.2.0",
            "_view_count": null,
            "flex_flow": null,
            "width": null,
            "min_width": null,
            "border": null,
            "align_items": null,
            "bottom": null,
            "_model_module": "@jupyter-widgets/base",
            "top": null,
            "grid_column": null,
            "overflow_y": null,
            "overflow_x": null,
            "grid_auto_flow": null,
            "grid_area": null,
            "grid_template_columns": null,
            "flex": null,
            "_model_name": "LayoutModel",
            "justify_items": null,
            "grid_row": null,
            "max_height": null,
            "align_content": null,
            "visibility": null,
            "align_self": null,
            "height": null,
            "min_height": null,
            "padding": null,
            "grid_auto_rows": null,
            "grid_gap": null,
            "max_width": null,
            "order": null,
            "_view_module_version": "1.2.0",
            "grid_template_areas": null,
            "object_position": null,
            "object_fit": null,
            "grid_auto_columns": null,
            "margin": null,
            "display": null,
            "left": null
          }
        },
        "1234498f3c0e4deca86d13450ffa766a": {
          "model_module": "@jupyter-widgets/controls",
          "model_name": "DescriptionStyleModel",
          "state": {
            "_view_name": "StyleView",
            "_model_name": "DescriptionStyleModel",
            "description_width": "",
            "_view_module": "@jupyter-widgets/base",
            "_model_module_version": "1.5.0",
            "_view_count": null,
            "_view_module_version": "1.2.0",
            "_model_module": "@jupyter-widgets/controls"
          }
        },
        "f27cfe556a1c4e0ea2ff024ce3f090aa": {
          "model_module": "@jupyter-widgets/base",
          "model_name": "LayoutModel",
          "state": {
            "_view_name": "LayoutView",
            "grid_template_rows": null,
            "right": null,
            "justify_content": null,
            "_view_module": "@jupyter-widgets/base",
            "overflow": null,
            "_model_module_version": "1.2.0",
            "_view_count": null,
            "flex_flow": null,
            "width": null,
            "min_width": null,
            "border": null,
            "align_items": null,
            "bottom": null,
            "_model_module": "@jupyter-widgets/base",
            "top": null,
            "grid_column": null,
            "overflow_y": null,
            "overflow_x": null,
            "grid_auto_flow": null,
            "grid_area": null,
            "grid_template_columns": null,
            "flex": null,
            "_model_name": "LayoutModel",
            "justify_items": null,
            "grid_row": null,
            "max_height": null,
            "align_content": null,
            "visibility": null,
            "align_self": null,
            "height": null,
            "min_height": null,
            "padding": null,
            "grid_auto_rows": null,
            "grid_gap": null,
            "max_width": null,
            "order": null,
            "_view_module_version": "1.2.0",
            "grid_template_areas": null,
            "object_position": null,
            "object_fit": null,
            "grid_auto_columns": null,
            "margin": null,
            "display": null,
            "left": null
          }
        }
      }
    }
  },
  "cells": [
    {
      "cell_type": "markdown",
      "metadata": {
        "id": "view-in-github",
        "colab_type": "text"
      },
      "source": [
        "<a href=\"https://colab.research.google.com/github/thhtruc/NeuralNetwork/blob/main/Intro_DL.ipynb\" target=\"_parent\"><img src=\"https://colab.research.google.com/assets/colab-badge.svg\" alt=\"Open In Colab\"/></a>"
      ]
    },
    {
      "cell_type": "code",
      "metadata": {
        "id": "1_4k1tZRnd5d"
      },
      "source": [
        "\"\"\"Single layer neural networks.\"\"\"\n",
        "\n",
        "import torch \n",
        "\n",
        "\n",
        "def sigmoid_function(x):\n",
        "  \"\"\"Sigmoid activation function.\"\"\"\n",
        "  return 1/(1 + torch.exp(-x))\n",
        "\n",
        "torch.manual_seed(7) # Set the random seed so things are predictable\n",
        "features = torch.randn((1, 5)) # Features are 5 random normal variables\n",
        "# contains values randomly distributed according to the normal distribution with mean of zero and standard devision of one\n",
        "weights = torch.randn_like(features) #True weights for our data, random normal variables again, normal distribution\n",
        "bias = torch.randn((1, 1)) # and a true bias term\n"
      ],
      "execution_count": null,
      "outputs": []
    },
    {
      "cell_type": "code",
      "metadata": {
        "id": "I2goJbXoqmJl",
        "colab": {
          "base_uri": "https://localhost:8080/"
        },
        "outputId": "c1191620-489d-4cef-e8ba-0c00539aec4c"
      },
      "source": [
        "#The output of single layer network\n",
        "y1 = sigmoid_function(torch.sum(features * weights) + bias)\n",
        "print(\"output=\", y1)\n",
        "y2 = sigmoid_function((features * weights).sum() + bias)\n",
        "print(\"output=\", y2)\n",
        "y3 = sigmoid_function(torch.matmul(features, weights.view(5, 1)) + bias)\n",
        "print(\"output=\", y3)"
      ],
      "execution_count": null,
      "outputs": [
        {
          "output_type": "stream",
          "text": [
            "output= tensor([[0.1595]])\n",
            "output= tensor([[0.1595]])\n",
            "output= tensor([[0.1595]])\n"
          ],
          "name": "stdout"
        }
      ]
    },
    {
      "cell_type": "code",
      "metadata": {
        "id": "SDrQXsvIs1rw"
      },
      "source": [
        "### Network Using Matrix Multiplication\n",
        "features = torch.randn((1, 3)) # 3 features \n",
        "\n",
        "# define the size of each layer in our network\n",
        "n_input = features.shape[1]\n",
        "n_hidden = 2\n",
        "n_output = 1\n",
        "\n",
        "# weights \n",
        "w1 = torch.randn(n_input, n_hidden)\n",
        "w2 = torch.randn(n_hidden, n_output)\n",
        "# bias\n",
        "b1 = torch.randn((1, n_hidden))\n",
        "b2 = torch.randn((1, n_output))\n"
      ],
      "execution_count": null,
      "outputs": []
    },
    {
      "cell_type": "code",
      "metadata": {
        "colab": {
          "base_uri": "https://localhost:8080/"
        },
        "id": "Ljyv9OxE47Xc",
        "outputId": "12e504cf-03ce-4f67-9522-8e304669f434"
      },
      "source": [
        "Y1 = sigmoid_function(torch.matmul(features, w1) + b1)\n",
        "Y2 = sigmoid_function(torch.matmul(Y1, w2) + b2)\n",
        "print(\"output\", Y2)"
      ],
      "execution_count": null,
      "outputs": [
        {
          "output_type": "stream",
          "text": [
            "output tensor([[0.8805]])\n"
          ],
          "name": "stdout"
        }
      ]
    },
    {
      "cell_type": "code",
      "metadata": {
        "id": "LFpd-dMrnBgL"
      },
      "source": [
        "### Neural Network\n",
        "\n",
        "%matplotlib inline \n",
        "%config InlineBackend.figure_format = 'retina'\n",
        "\n",
        "\n",
        "import torch\n",
        "import matplotlib.pyplot as plt\n",
        "from torchvision import datasets, transforms\n",
        "\n",
        "#define a transform to normalize the data\n",
        "transform = transforms.Compose([transforms.ToTensor(),\n",
        "                              transforms.Normalize((0.5,), (0.5,)),\n",
        "                              ])\n"
      ],
      "execution_count": null,
      "outputs": []
    },
    {
      "cell_type": "code",
      "metadata": {
        "colab": {
          "base_uri": "https://localhost:8080/",
          "height": 1000,
          "referenced_widgets": [
            "a35536ce2d3c41c39a0adb6c86229ce6",
            "67700a5b0ce54fa4a4b18b463859157b",
            "c9177f3899f44a9a87c61459475c98bd",
            "706c8b79d2c9483baa3dacd8742b0f7e",
            "a1bf01716c7a4bbcbf34256d337b5448",
            "7452729528214560a3e200a335e1cf2a",
            "2f4e4c97dc824c68adf1a1cd56b1bfa8",
            "307fb1a7eb91473faf87e75270e4225a",
            "0e9f60c9a529402582efe2b4e11a84e4",
            "49aaba1a2d1941989b2109ae9b610aad",
            "67cf1bc4eb544b779f58c02ea4971eec",
            "7e88afe91e0a4a47a38f5bd9c8897a78",
            "a2c64f2cf6bf498fa7b53d0adeec36f5",
            "521d4beac66542a2b2aac1561f6a3adf",
            "0b7d2d51a4474c3da008c99873eececd",
            "5e90854a0da046e6bde4070d175f2b79",
            "261b54db3e8e4b9bb0ceb27a3e0a87ea",
            "28491ac86c0c4c4ea2937f206676a28b",
            "fa3d9f49a89a4ef684f65b771fe19529",
            "640ba84a352349ee877d27ddf031f705",
            "5591c357a41a468281f407501ebf539e",
            "ed907c6746a8403794077883cfa35623",
            "5510f861111c41acbf1bf0594628aece",
            "8c47f5aa163147c8ba26244c55bc93b8",
            "3bddf8e6119f43b898c97fa60f29d4cd",
            "9e3a57408ff84477a8001f8fea659165",
            "a914a802afdf451395e9b1ee5fd5c97b",
            "4841ba81d9114b7e8ee4484f3bd8b0d4",
            "9d5ab86c7b384cf8b2d0a95147c010c7",
            "a55ed7e2f6f34d7c81c48bd6cd723659",
            "3123cfd207c64147b3970748184e812a",
            "dfc083105fb14b48afd3acb73fe7cf59",
            "8744b020d7274a4b85b68fa259f4f951",
            "a860a2b2a9d14415aa171cc5332951a4",
            "96c2ceab8e26408c9547e907e7ac3696",
            "ebd50a57f78745ed9eeedbe0b96297ee",
            "4e6b03c713a9447fbf4b26c466d3b340",
            "431e328453b0434d91068e08b3fc03b3",
            "3a94dbadaeab4fedb45c756c05e16265",
            "c4b35b69cbc941118ed46264a79bba71",
            "565f143d939c42568320aa9a6c2d18ac",
            "126d9ef14ca54cbd8fb3b8463ef84b66",
            "f578f9a75175420b88cc8b3eb84edb52",
            "cb02ae5d069f4edd8125c1a505c06058",
            "98a5c0417e2048faba1a6e4cf97c0d83",
            "1d91fd2c45e248e2833f76c02320dfbb",
            "f691130abbdb49b49d7cec79755fe511",
            "dcfc7efa644141e1b0a0a8d200e67df1",
            "d4cb95b925ff43f7a721f7d1424f0159",
            "4799ef56a05f4d24a43d5c681b4e2d8f",
            "3ab4e7de2fa74188b2af2bfb0a8e5d89",
            "5266046640ab4db99fc4090e931ecb13",
            "1ab0ddd086c2467aab21277787c94a8d",
            "b13ddad03bb640feaa718f240d590fc8",
            "85a4b0b4d7f54da5a7734d72728d333d",
            "52d80e2ec37e4dc1b19282320fb79472",
            "d8546282c6f74ee5bf0e0058a217b96c",
            "2625ef77a7574f91a0e801ccbc35ffee",
            "ea18d779f13d4417bd81fb805fae8529",
            "f6ffac4d8e61449daff59027929ba997",
            "0f6dbe2195a948b38ddf186cd811c32c",
            "10a86108579f4654acef7ec35da61a08",
            "1234498f3c0e4deca86d13450ffa766a",
            "f27cfe556a1c4e0ea2ff024ce3f090aa"
          ]
        },
        "id": "w2kOCyS7n6tc",
        "outputId": "67f7a911-2497-4603-f278-b84122f1e6d9"
      },
      "source": [
        "#download and load the training data\n",
        "trainset = datasets.MNIST('TRAIN_SET', download=True, train=True, transform=transform)\n",
        "valset = datasets.MNIST('VAL_SET', download=True, train=False, transform=transform)\n",
        "trainloader = torch.utils.data.DataLoader(trainset, batch_size=64, shuffle=True)\n",
        "valloader = torch.utils.data.DataLoader(valset, batch_size=64, shuffle=True)\n",
        "\n",
        "### the batch size is the number of images we get in one iteration from data loader\n",
        "# and pass through network\n",
        "### Shuffle=True - shuffle the dataset everytime we start going through the data loader again\n"
      ],
      "execution_count": null,
      "outputs": [
        {
          "output_type": "stream",
          "text": [
            "Downloading http://yann.lecun.com/exdb/mnist/train-images-idx3-ubyte.gz\n",
            "Downloading http://yann.lecun.com/exdb/mnist/train-images-idx3-ubyte.gz to TRAIN_SET/MNIST/raw/train-images-idx3-ubyte.gz\n",
            "Failed to download (trying next):\n",
            "HTTP Error 503: Service Unavailable\n",
            "\n",
            "Downloading https://ossci-datasets.s3.amazonaws.com/mnist/train-images-idx3-ubyte.gz\n",
            "Downloading https://ossci-datasets.s3.amazonaws.com/mnist/train-images-idx3-ubyte.gz to TRAIN_SET/MNIST/raw/train-images-idx3-ubyte.gz\n"
          ],
          "name": "stdout"
        },
        {
          "output_type": "display_data",
          "data": {
            "application/vnd.jupyter.widget-view+json": {
              "model_id": "a35536ce2d3c41c39a0adb6c86229ce6",
              "version_minor": 0,
              "version_major": 2
            },
            "text/plain": [
              "HBox(children=(FloatProgress(value=0.0, max=9912422.0), HTML(value='')))"
            ]
          },
          "metadata": {
            "tags": []
          }
        },
        {
          "output_type": "stream",
          "text": [
            "\n",
            "Extracting TRAIN_SET/MNIST/raw/train-images-idx3-ubyte.gz to TRAIN_SET/MNIST/raw\n",
            "\n",
            "Downloading http://yann.lecun.com/exdb/mnist/train-labels-idx1-ubyte.gz\n",
            "Downloading http://yann.lecun.com/exdb/mnist/train-labels-idx1-ubyte.gz to TRAIN_SET/MNIST/raw/train-labels-idx1-ubyte.gz\n",
            "Failed to download (trying next):\n",
            "HTTP Error 503: Service Unavailable\n",
            "\n",
            "Downloading https://ossci-datasets.s3.amazonaws.com/mnist/train-labels-idx1-ubyte.gz\n",
            "Downloading https://ossci-datasets.s3.amazonaws.com/mnist/train-labels-idx1-ubyte.gz to TRAIN_SET/MNIST/raw/train-labels-idx1-ubyte.gz\n"
          ],
          "name": "stdout"
        },
        {
          "output_type": "display_data",
          "data": {
            "application/vnd.jupyter.widget-view+json": {
              "model_id": "0e9f60c9a529402582efe2b4e11a84e4",
              "version_minor": 0,
              "version_major": 2
            },
            "text/plain": [
              "HBox(children=(FloatProgress(value=0.0, max=28881.0), HTML(value='')))"
            ]
          },
          "metadata": {
            "tags": []
          }
        },
        {
          "output_type": "stream",
          "text": [
            "\n",
            "Extracting TRAIN_SET/MNIST/raw/train-labels-idx1-ubyte.gz to TRAIN_SET/MNIST/raw\n",
            "\n",
            "Downloading http://yann.lecun.com/exdb/mnist/t10k-images-idx3-ubyte.gz\n",
            "Failed to download (trying next):\n",
            "HTTP Error 503: Service Unavailable\n",
            "\n",
            "Downloading https://ossci-datasets.s3.amazonaws.com/mnist/t10k-images-idx3-ubyte.gz\n",
            "Downloading https://ossci-datasets.s3.amazonaws.com/mnist/t10k-images-idx3-ubyte.gz to TRAIN_SET/MNIST/raw/t10k-images-idx3-ubyte.gz\n"
          ],
          "name": "stdout"
        },
        {
          "output_type": "display_data",
          "data": {
            "application/vnd.jupyter.widget-view+json": {
              "model_id": "261b54db3e8e4b9bb0ceb27a3e0a87ea",
              "version_minor": 0,
              "version_major": 2
            },
            "text/plain": [
              "HBox(children=(FloatProgress(value=0.0, max=1648877.0), HTML(value='')))"
            ]
          },
          "metadata": {
            "tags": []
          }
        },
        {
          "output_type": "stream",
          "text": [
            "\n",
            "Extracting TRAIN_SET/MNIST/raw/t10k-images-idx3-ubyte.gz to TRAIN_SET/MNIST/raw\n",
            "\n",
            "Downloading http://yann.lecun.com/exdb/mnist/t10k-labels-idx1-ubyte.gz\n",
            "Downloading http://yann.lecun.com/exdb/mnist/t10k-labels-idx1-ubyte.gz to TRAIN_SET/MNIST/raw/t10k-labels-idx1-ubyte.gz\n",
            "Failed to download (trying next):\n",
            "HTTP Error 503: Service Unavailable\n",
            "\n",
            "Downloading https://ossci-datasets.s3.amazonaws.com/mnist/t10k-labels-idx1-ubyte.gz\n",
            "Downloading https://ossci-datasets.s3.amazonaws.com/mnist/t10k-labels-idx1-ubyte.gz to TRAIN_SET/MNIST/raw/t10k-labels-idx1-ubyte.gz\n"
          ],
          "name": "stdout"
        },
        {
          "output_type": "display_data",
          "data": {
            "application/vnd.jupyter.widget-view+json": {
              "model_id": "3bddf8e6119f43b898c97fa60f29d4cd",
              "version_minor": 0,
              "version_major": 2
            },
            "text/plain": [
              "HBox(children=(FloatProgress(value=0.0, max=4542.0), HTML(value='')))"
            ]
          },
          "metadata": {
            "tags": []
          }
        },
        {
          "output_type": "stream",
          "text": [
            "\n",
            "Extracting TRAIN_SET/MNIST/raw/t10k-labels-idx1-ubyte.gz to TRAIN_SET/MNIST/raw\n",
            "\n",
            "Downloading http://yann.lecun.com/exdb/mnist/train-images-idx3-ubyte.gz\n",
            "Failed to download (trying next):\n",
            "HTTP Error 503: Service Unavailable\n",
            "\n",
            "Downloading https://ossci-datasets.s3.amazonaws.com/mnist/train-images-idx3-ubyte.gz\n"
          ],
          "name": "stdout"
        },
        {
          "output_type": "stream",
          "text": [
            "/usr/local/lib/python3.7/dist-packages/torchvision/datasets/mnist.py:498: UserWarning: The given NumPy array is not writeable, and PyTorch does not support non-writeable tensors. This means you can write to the underlying (supposedly non-writeable) NumPy array using the tensor. You may want to copy the array to protect its data or make it writeable before converting it to a tensor. This type of warning will be suppressed for the rest of this program. (Triggered internally at  /pytorch/torch/csrc/utils/tensor_numpy.cpp:180.)\n",
            "  return torch.from_numpy(parsed.astype(m[2], copy=False)).view(*s)\n"
          ],
          "name": "stderr"
        },
        {
          "output_type": "stream",
          "text": [
            "Downloading https://ossci-datasets.s3.amazonaws.com/mnist/train-images-idx3-ubyte.gz to VAL_SET/MNIST/raw/train-images-idx3-ubyte.gz\n"
          ],
          "name": "stdout"
        },
        {
          "output_type": "display_data",
          "data": {
            "application/vnd.jupyter.widget-view+json": {
              "model_id": "8744b020d7274a4b85b68fa259f4f951",
              "version_minor": 0,
              "version_major": 2
            },
            "text/plain": [
              "HBox(children=(FloatProgress(value=0.0, max=9912422.0), HTML(value='')))"
            ]
          },
          "metadata": {
            "tags": []
          }
        },
        {
          "output_type": "stream",
          "text": [
            "\n",
            "Extracting VAL_SET/MNIST/raw/train-images-idx3-ubyte.gz to VAL_SET/MNIST/raw\n",
            "\n",
            "Downloading http://yann.lecun.com/exdb/mnist/train-labels-idx1-ubyte.gz\n",
            "Failed to download (trying next):\n",
            "HTTP Error 503: Service Unavailable\n",
            "\n",
            "Downloading https://ossci-datasets.s3.amazonaws.com/mnist/train-labels-idx1-ubyte.gz\n",
            "Downloading https://ossci-datasets.s3.amazonaws.com/mnist/train-labels-idx1-ubyte.gz to VAL_SET/MNIST/raw/train-labels-idx1-ubyte.gz\n"
          ],
          "name": "stdout"
        },
        {
          "output_type": "display_data",
          "data": {
            "application/vnd.jupyter.widget-view+json": {
              "model_id": "565f143d939c42568320aa9a6c2d18ac",
              "version_minor": 0,
              "version_major": 2
            },
            "text/plain": [
              "HBox(children=(FloatProgress(value=0.0, max=28881.0), HTML(value='')))"
            ]
          },
          "metadata": {
            "tags": []
          }
        },
        {
          "output_type": "stream",
          "text": [
            "\n",
            "Extracting VAL_SET/MNIST/raw/train-labels-idx1-ubyte.gz to VAL_SET/MNIST/raw\n",
            "\n",
            "Downloading http://yann.lecun.com/exdb/mnist/t10k-images-idx3-ubyte.gz\n",
            "Failed to download (trying next):\n",
            "HTTP Error 503: Service Unavailable\n",
            "\n",
            "Downloading https://ossci-datasets.s3.amazonaws.com/mnist/t10k-images-idx3-ubyte.gz\n",
            "Downloading https://ossci-datasets.s3.amazonaws.com/mnist/t10k-images-idx3-ubyte.gz to VAL_SET/MNIST/raw/t10k-images-idx3-ubyte.gz\n"
          ],
          "name": "stdout"
        },
        {
          "output_type": "display_data",
          "data": {
            "application/vnd.jupyter.widget-view+json": {
              "model_id": "d4cb95b925ff43f7a721f7d1424f0159",
              "version_minor": 0,
              "version_major": 2
            },
            "text/plain": [
              "HBox(children=(FloatProgress(value=0.0, max=1648877.0), HTML(value='')))"
            ]
          },
          "metadata": {
            "tags": []
          }
        },
        {
          "output_type": "stream",
          "text": [
            "\n",
            "Extracting VAL_SET/MNIST/raw/t10k-images-idx3-ubyte.gz to VAL_SET/MNIST/raw\n",
            "\n",
            "Downloading http://yann.lecun.com/exdb/mnist/t10k-labels-idx1-ubyte.gz\n",
            "Downloading http://yann.lecun.com/exdb/mnist/t10k-labels-idx1-ubyte.gz to VAL_SET/MNIST/raw/t10k-labels-idx1-ubyte.gz\n"
          ],
          "name": "stdout"
        },
        {
          "output_type": "display_data",
          "data": {
            "application/vnd.jupyter.widget-view+json": {
              "model_id": "d8546282c6f74ee5bf0e0058a217b96c",
              "version_minor": 0,
              "version_major": 2
            },
            "text/plain": [
              "HBox(children=(FloatProgress(value=0.0, max=4542.0), HTML(value='')))"
            ]
          },
          "metadata": {
            "tags": []
          }
        },
        {
          "output_type": "stream",
          "text": [
            "\n",
            "Extracting VAL_SET/MNIST/raw/t10k-labels-idx1-ubyte.gz to VAL_SET/MNIST/raw\n",
            "\n"
          ],
          "name": "stdout"
        }
      ]
    },
    {
      "cell_type": "code",
      "metadata": {
        "colab": {
          "base_uri": "https://localhost:8080/"
        },
        "id": "ZB351y-Fov05",
        "outputId": "8fe79f88-3d27-4d61-9577-cfcad0ba51c5"
      },
      "source": [
        "print(type(trainloader))\n",
        "print(type(trainset))"
      ],
      "execution_count": null,
      "outputs": [
        {
          "output_type": "stream",
          "text": [
            "<class 'torch.utils.data.dataloader.DataLoader'>\n",
            "<class 'torchvision.datasets.mnist.MNIST'>\n"
          ],
          "name": "stdout"
        }
      ]
    },
    {
      "cell_type": "code",
      "metadata": {
        "colab": {
          "base_uri": "https://localhost:8080/"
        },
        "id": "RWvHepfxpe74",
        "outputId": "454bfe45-b179-41a4-fc76-a37a3587f5b3"
      },
      "source": [
        "dataiter = iter(trainloader)\n",
        "images, labels = dataiter.next()\n",
        "print(type(images))\n",
        "print(images.shape)\n",
        "print(labels.shape)"
      ],
      "execution_count": null,
      "outputs": [
        {
          "output_type": "stream",
          "text": [
            "<class 'torch.Tensor'>\n",
            "torch.Size([64, 1, 28, 28])\n",
            "torch.Size([64])\n"
          ],
          "name": "stdout"
        }
      ]
    },
    {
      "cell_type": "code",
      "metadata": {
        "colab": {
          "base_uri": "https://localhost:8080/",
          "height": 282
        },
        "id": "9Zt16h6oqWOg",
        "outputId": "4b485288-8886-4273-9998-e999d8c788bf"
      },
      "source": [
        "import numpy\n",
        "\n",
        "\n",
        "plt.imshow(images[0].numpy().squeeze(), cmap='Greys_r')"
      ],
      "execution_count": null,
      "outputs": [
        {
          "output_type": "execute_result",
          "data": {
            "text/plain": [
              "<matplotlib.image.AxesImage at 0x7fe8b2a89ed0>"
            ]
          },
          "metadata": {
            "tags": []
          },
          "execution_count": 9
        },
        {
          "output_type": "display_data",
          "data": {
            "image/png": "[encoded data removed]",
            "text/plain": [
              "<Figure size 432x288 with 1 Axes>"
            ]
          },
          "metadata": {
            "tags": [],
            "image/png": {
              "width": 251,
              "height": 248
            },
            "needs_background": "light"
          }
        }
      ]
    },
    {
      "cell_type": "code",
      "metadata": {
        "id": "2U_JfGX3xIKb"
      },
      "source": [
        "def sigmoid_function(x):\n",
        "  \"\"\"Sigmoid activation function.\"\"\"\n",
        "  return 1/(1 + torch.exp(-x))\n"
      ],
      "execution_count": null,
      "outputs": []
    },
    {
      "cell_type": "code",
      "metadata": {
        "colab": {
          "base_uri": "https://localhost:8080/"
        },
        "id": "7_VR1xu2yBZ7",
        "outputId": "d71b4ef7-2c7b-44d9-df76-ddf65931e9ed"
      },
      "source": [
        "n_input = 784\n",
        "n_hidden = 256\n",
        "n_output = 10\n",
        "\n",
        "input = images.view(images.shape[0], -1)\n",
        "# weights \n",
        "w1 = torch.randn(n_input, n_hidden)\n",
        "w2 = torch.randn(n_hidden, n_output)\n",
        "\n",
        "# bias\n",
        "b1 = torch.randn((1, n_hidden))\n",
        "b2 = torch.randn((1, n_output))\n",
        "\n",
        "Y1 = sigmoid_function(torch.mm(input, w1) + b1)\n",
        "Y2 = torch.mm(Y1, w2) + b2\n",
        "print(\"output\", Y2)\n",
        "print(Y2.shape)"
      ],
      "execution_count": null,
      "outputs": [
        {
          "output_type": "stream",
          "text": [
            "output tensor([[ 8.1502e+00,  1.1670e+01,  1.6444e+01,  4.5166e+00,  1.5948e+01,\n",
            "          2.9211e+00, -1.2643e+01, -4.6858e+00,  2.0036e+00,  4.4896e+00],\n",
            "        [ 8.9072e+00,  5.9933e+00,  2.3604e+01,  8.9465e+00,  2.8985e-01,\n",
            "         -9.7394e+00,  1.3060e+00, -5.9346e+00,  1.6777e+00,  3.1921e+00],\n",
            "        [-2.3110e-01,  1.6994e+00,  2.1913e+01,  4.6162e+00,  1.3632e+01,\n",
            "         -5.4731e+00, -5.2708e-01, -1.0379e+01,  8.3070e+00,  3.7390e+00],\n",
            "        [ 3.1307e+00,  1.4458e+01,  2.0701e+01, -7.7177e+00,  8.4828e+00,\n",
            "          1.1062e+01, -6.0130e+00, -1.5181e+01,  1.2158e+01,  8.3059e+00],\n",
            "        [ 3.6240e+00,  1.6774e+01,  2.0131e+01, -6.9610e+00,  6.2905e-01,\n",
            "         -1.6160e+00,  1.5277e+00, -1.5341e+01,  9.2966e+00,  9.4053e+00],\n",
            "        [ 4.9905e+00,  5.5226e+00,  2.6764e+01,  7.2042e+00, -6.3325e+00,\n",
            "         -2.4006e+00, -3.9317e+00, -1.3704e+01,  4.6040e+00,  1.6452e+01],\n",
            "        [-4.5822e+00,  1.6967e+01,  2.8464e+01,  5.1986e+00,  2.9789e-01,\n",
            "         -1.1002e+01, -7.8021e+00, -8.5609e+00,  1.1027e+00,  4.7576e+00],\n",
            "        [ 2.0550e+01,  9.7862e-01,  3.3002e+01, -3.2191e+00,  2.7229e+00,\n",
            "         -8.7654e+00,  2.5247e+00, -1.8558e+01,  3.5173e+00,  1.2006e+01],\n",
            "        [ 4.1769e+00,  5.3745e-01,  3.0069e+01,  3.8301e+00, -2.1796e+00,\n",
            "         -1.0978e+01, -9.0769e+00, -1.7115e+01,  1.2999e+01,  1.0107e+01],\n",
            "        [ 8.7160e+00,  1.3680e+01,  2.4580e+01, -5.4946e-01,  1.0634e+01,\n",
            "         -6.7162e+00, -1.6587e-02, -1.4618e+01,  5.4007e-01,  1.4061e+01],\n",
            "        [ 7.4172e-01,  1.1709e+01,  2.5689e+01,  3.1672e+00,  1.0891e+00,\n",
            "         -1.0588e+01, -2.6562e+00, -7.6537e+00,  9.6658e-01,  1.3568e+01],\n",
            "        [ 1.2286e+00,  1.6201e+01,  1.9352e+01,  3.2488e+00,  1.0865e+01,\n",
            "          3.8774e+00,  1.1496e+00, -1.4699e+01,  2.6089e+00,  1.9681e+00],\n",
            "        [-2.7526e-01,  1.2724e+01,  1.7273e+01, -1.1809e+01,  5.6438e-01,\n",
            "         -8.6660e+00, -3.9187e+00, -8.1986e+00,  1.0573e+01,  1.1684e+01],\n",
            "        [ 2.0354e+01,  6.0360e+00,  2.2668e+01,  2.0693e+00, -3.7518e+00,\n",
            "         -3.5540e+00, -9.1164e+00, -5.5406e+00,  1.1299e+01,  1.0435e+01],\n",
            "        [ 1.5249e+01,  1.0706e+01,  2.8863e+01, -4.0117e+00,  9.5215e+00,\n",
            "         -3.3394e-01, -6.6151e+00, -1.5986e+01,  5.1049e+00,  7.1840e+00],\n",
            "        [ 1.3026e+00,  7.1103e+00,  2.3262e+01, -6.6523e-01,  8.2403e+00,\n",
            "          1.0966e+00,  2.9874e+00, -8.7479e+00,  7.6324e+00,  3.2380e+00],\n",
            "        [ 1.1728e+01,  7.6480e+00,  2.4476e+01, -2.8577e+00,  9.8999e+00,\n",
            "         -1.7725e+00, -8.7533e+00, -8.8275e+00, -4.2540e-01,  1.3599e+01],\n",
            "        [-4.1654e+00,  9.9786e+00,  2.5115e+01,  9.9946e+00,  8.4288e+00,\n",
            "         -6.2704e+00, -1.2356e+01, -5.2509e+00,  2.1396e+00,  1.5690e+01],\n",
            "        [ 3.4376e+00,  9.8553e+00,  2.0300e+01, -6.5802e-02,  3.8524e+00,\n",
            "          5.3191e+00, -3.8439e+00, -1.0583e+01,  6.6990e+00,  6.5238e+00],\n",
            "        [-3.6111e-01,  1.0748e+01,  2.3306e+01, -8.4926e+00,  1.3101e+01,\n",
            "         -1.1345e+01, -1.5653e+00, -5.4855e+00,  7.8672e+00,  1.0634e+01],\n",
            "        [ 6.9103e+00,  7.6750e+00,  2.0949e+01, -1.8111e+00,  1.8436e+01,\n",
            "          3.6757e+00,  3.7812e+00, -1.8637e+01,  1.0726e+01,  1.3512e+00],\n",
            "        [-4.3673e+00,  6.5136e+00,  2.4582e+01,  9.4658e+00,  5.9985e+00,\n",
            "         -7.8742e+00, -4.8758e+00, -1.2530e+01,  6.1714e+00,  6.9018e+00],\n",
            "        [ 6.4660e+00,  7.4718e+00,  2.7122e+01,  4.5751e+00, -8.9938e-01,\n",
            "         -4.5109e+00,  2.8069e-01, -5.6357e+00,  5.7323e+00,  1.1049e+01],\n",
            "        [ 7.0197e+00,  1.6195e+00,  2.6171e+01, -3.0023e+00,  9.4299e+00,\n",
            "          7.1222e+00,  1.6424e+00, -1.1561e+01, -2.6937e+00,  1.2197e+01],\n",
            "        [ 1.9361e+01,  1.8131e+01,  2.7343e+01, -7.3922e-01,  8.0852e+00,\n",
            "         -7.8411e+00, -4.6728e+00, -9.4371e+00,  6.0942e+00,  1.3518e+01],\n",
            "        [-1.8572e-01,  9.1442e+00,  2.4540e+01, -1.4065e+01,  2.7115e+00,\n",
            "         -1.2946e+00,  2.1391e+00, -1.2688e+01,  8.7955e+00,  1.5677e+00],\n",
            "        [-5.7824e+00,  2.0140e+01,  2.1095e+01, -7.3739e+00,  1.4593e+01,\n",
            "         -5.2211e+00, -8.1783e+00, -5.2726e+00,  1.5418e+01,  9.0992e+00],\n",
            "        [ 9.0890e+00,  7.8579e+00,  2.3423e+01,  1.2061e+01,  6.0320e+00,\n",
            "         -6.3446e+00, -7.6106e+00, -1.5866e+00, -5.1663e+00,  1.3065e+01],\n",
            "        [ 2.3096e+00,  5.9118e+00,  1.8754e+01,  4.8274e-01,  4.5428e+00,\n",
            "         -1.0570e+01, -1.5356e+00, -8.2726e+00,  6.1714e+00,  1.5609e+00],\n",
            "        [ 6.2584e+00,  9.6114e+00,  1.9196e+01,  3.5766e+00,  4.3595e+00,\n",
            "         -2.2174e+00, -8.5775e+00, -8.0537e+00,  9.3294e+00,  2.3669e+00],\n",
            "        [ 8.1832e+00,  9.6157e+00,  2.8867e+01,  1.1318e+01, -8.0806e+00,\n",
            "         -8.1743e+00, -1.2607e+01, -1.2480e+01,  2.1032e-01,  8.3865e+00],\n",
            "        [ 2.0029e+00,  5.1883e+00,  2.2348e+01,  8.8491e+00,  3.9383e+00,\n",
            "         -1.0166e+01, -1.1713e+01, -8.1500e+00,  4.4929e+00,  2.8514e+00],\n",
            "        [-2.2662e+00,  1.1912e+01,  1.7594e+01, -3.0206e+00,  1.0006e+01,\n",
            "          3.0348e+00, -5.1047e-01, -1.4448e+01,  6.4739e+00,  1.0248e-01],\n",
            "        [ 1.4802e+01,  1.9754e+01,  1.6259e+01, -7.4190e+00,  5.1476e+00,\n",
            "         -5.9271e-01,  2.0333e+00, -6.0721e+00,  1.4355e+01,  7.7218e+00],\n",
            "        [ 5.7024e+00,  1.1815e+01,  2.6008e+01,  1.5475e+01,  3.4935e+00,\n",
            "          2.3513e+00, -4.1446e+00, -1.2495e+01, -5.7142e+00,  1.5285e+01],\n",
            "        [-5.4561e-01,  4.5566e+00,  1.8831e+01,  1.8514e-01,  1.4012e+01,\n",
            "          7.2692e-01,  1.2093e+01, -3.2318e+00,  4.0313e+00,  1.2442e+01],\n",
            "        [-1.8775e+00,  2.9996e+00,  2.4807e+01,  3.3285e+00,  6.2409e-01,\n",
            "         -1.1962e+01, -1.0013e+01, -1.4650e+01,  1.2282e+01,  5.9849e+00],\n",
            "        [-1.7199e+00,  7.7305e+00,  1.7165e+01,  9.9503e-01,  6.7254e+00,\n",
            "         -1.1849e+01, -1.4662e+00, -1.9084e+01,  4.3954e+00,  1.0270e+01],\n",
            "        [ 1.1981e+01,  9.3864e+00,  2.8723e+01,  7.6448e+00, -3.4400e+00,\n",
            "         -1.5887e+01,  4.2882e-01, -2.2281e+01,  3.4898e+00,  6.5050e+00],\n",
            "        [ 3.8156e+00,  1.2172e+01,  2.8505e+01,  5.7791e+00,  3.7544e+00,\n",
            "         -9.0365e+00, -7.2255e+00, -1.5120e+01,  7.9118e+00,  8.8335e+00],\n",
            "        [ 4.2654e+00,  6.0924e+00,  2.6123e+01, -2.5693e+00,  1.1642e+01,\n",
            "          4.2413e+00, -9.9165e+00, -7.8473e+00, -5.5092e-01,  8.4109e+00],\n",
            "        [ 3.4373e+00,  1.2433e+01,  2.0624e+01,  4.5824e+00,  7.4551e+00,\n",
            "         -6.1456e+00, -4.8089e+00, -6.4196e+00,  8.2595e+00,  1.2962e+01],\n",
            "        [ 2.7484e+00,  6.5566e+00,  1.8364e+01,  7.0277e+00,  9.8582e+00,\n",
            "         -1.0107e+01,  1.2648e+00, -1.8211e+01,  1.4301e+01,  5.4965e+00],\n",
            "        [ 1.7313e+01,  5.3178e-01,  2.9218e+01, -1.6418e+00,  1.9854e+00,\n",
            "         -7.7029e+00, -2.9533e+00, -1.6276e+01,  6.4720e+00,  1.4347e+01],\n",
            "        [ 6.5246e+00,  9.2808e+00,  2.4707e+01,  1.5837e+00,  1.1699e+00,\n",
            "         -4.9993e+00, -9.2040e+00, -1.7898e+01,  6.2839e+00,  9.4912e+00],\n",
            "        [ 1.8513e+00,  1.0286e+01,  1.9661e+01,  5.7119e+00,  9.6414e+00,\n",
            "         -3.4986e+00, -6.0553e+00, -7.7322e+00,  5.5782e+00,  1.2384e+01],\n",
            "        [ 1.0245e+01,  8.9954e+00,  2.2125e+01,  6.6116e+00,  7.0807e+00,\n",
            "         -6.6299e+00, -6.7408e+00, -3.2785e+00,  1.2128e+00,  8.5001e+00],\n",
            "        [ 1.3731e+00,  8.3990e+00,  1.7193e+01,  1.9079e-01,  1.3391e+01,\n",
            "          4.0435e+00, -4.8542e+00, -5.8255e+00,  4.0555e-01,  6.8584e+00],\n",
            "        [ 1.0465e+00,  1.6266e+01,  2.2820e+01,  1.0679e+00,  4.9903e+00,\n",
            "         -2.2043e+00, -8.2986e+00, -5.8401e+00,  7.7331e+00,  1.3143e+01],\n",
            "        [ 8.7945e+00,  1.7535e+01,  2.2977e+01, -6.1356e+00, -1.1563e+01,\n",
            "          5.8498e+00, -9.9594e+00, -1.2289e+01,  1.3448e+01,  1.0242e+01],\n",
            "        [ 1.1482e+01,  1.3142e+01,  1.7845e+01, -6.4221e+00,  1.0567e+01,\n",
            "          3.8916e+00,  2.6571e+00, -1.1223e+01, -3.4721e+00,  9.5395e+00],\n",
            "        [ 9.4789e+00, -7.4709e-01,  2.7461e+01,  3.8747e+00,  9.8777e+00,\n",
            "          6.9363e+00, -2.7818e+00, -6.6672e+00, -2.1237e+00,  4.3603e+00],\n",
            "        [ 8.1712e+00,  2.7409e+00,  2.1727e+01,  1.4403e+00,  4.1397e+00,\n",
            "         -2.9385e+00, -1.1362e+00, -8.7019e+00,  2.4096e+00,  2.6186e-01],\n",
            "        [-5.4852e-01,  1.8428e+01,  2.3798e+01,  1.8066e-01,  6.3737e+00,\n",
            "         -4.0662e+00, -8.4398e+00, -1.1266e+01,  6.6082e+00,  1.2926e+01],\n",
            "        [ 2.1242e+00,  7.5126e+00,  2.8434e+01, -6.7024e+00,  5.5623e+00,\n",
            "          3.0188e+00, -4.1938e+00, -1.1422e+01,  4.9845e+00,  1.1221e+01],\n",
            "        [ 4.2195e+00,  1.3106e+01,  2.2186e+01,  1.1420e+01,  5.1560e+00,\n",
            "         -5.7331e+00, -2.5077e+00, -3.6203e+00,  8.1997e+00,  3.5971e+00],\n",
            "        [ 3.5651e+00,  1.0536e+01,  1.6967e+01, -4.2521e+00,  5.3250e+00,\n",
            "         -3.2840e-01,  7.2358e+00, -1.2664e+01,  6.1472e+00,  7.4064e+00],\n",
            "        [-2.2664e+00,  1.3218e+01,  2.3571e+01, -9.8062e-01,  5.0684e+00,\n",
            "         -5.9924e-01, -5.4673e+00, -8.1165e+00,  5.8168e+00,  1.1557e+01],\n",
            "        [ 7.4279e-01,  1.6434e+01,  2.5068e+01, -4.3993e+00,  6.5040e+00,\n",
            "          3.9512e-01, -1.1015e+01, -1.6188e+01,  6.0568e+00,  9.6849e+00],\n",
            "        [ 9.0318e-01,  3.7140e+00,  2.1697e+01,  3.9472e-01,  1.0982e+01,\n",
            "          1.9936e+00, -6.2878e+00,  2.3604e+00,  8.4354e+00,  2.0609e+00],\n",
            "        [ 1.7064e+01,  5.5402e+00,  2.5541e+01,  1.6490e+00,  1.5668e+01,\n",
            "         -8.4019e+00, -8.9335e-04, -6.3011e+00,  7.6027e+00,  1.3087e+01],\n",
            "        [ 1.2097e+01,  4.7716e+00,  3.3391e+01,  5.2593e-01,  4.6062e+00,\n",
            "         -7.7296e+00, -5.7653e+00, -1.4153e+01,  1.0804e+01,  1.7683e+01],\n",
            "        [ 3.9408e+00,  8.8127e+00,  2.5754e+01,  8.6640e+00,  8.3094e-02,\n",
            "         -6.7818e+00,  5.5737e-01, -1.5270e+01,  8.2707e+00, -4.9753e+00],\n",
            "        [ 8.1932e+00,  1.0637e+01,  2.2838e+01, -1.0284e+00,  5.0196e+00,\n",
            "         -8.1540e+00, -4.8374e+00, -1.2960e+01, -3.0114e+00,  1.3433e+01]])\n",
            "torch.Size([64, 10])\n"
          ],
          "name": "stdout"
        }
      ]
    },
    {
      "cell_type": "code",
      "metadata": {
        "id": "0FLmY2bD2p82"
      },
      "source": [
        "def softmax_function(x):\n",
        "  return torch.exp(x)/torch.sum(torch.exp(x), dim=1).view(-1, 1)"
      ],
      "execution_count": null,
      "outputs": []
    },
    {
      "cell_type": "code",
      "metadata": {
        "colab": {
          "base_uri": "https://localhost:8080/"
        },
        "id": "zLeSgzXJ4QBw",
        "outputId": "e5b31be6-430b-4c0e-ce6f-7e97e8530288"
      },
      "source": [
        "Y_probabilities = softmax_function(Y2)\n",
        "print(Y_probabilities.shape)\n",
        "print(Y_probabilities)\n",
        "print(Y_probabilities.sum(dim=1))"
      ],
      "execution_count": null,
      "outputs": [
        {
          "output_type": "stream",
          "text": [
            "torch.Size([64, 10])\n",
            "tensor([[1.5457e-04, 5.2206e-03, 6.1834e-01, 4.0837e-06, 3.7628e-01, 8.2822e-07,\n",
            "         1.4411e-13, 4.1163e-10, 3.3090e-07, 3.9751e-06],\n",
            "        [4.1424e-07, 2.2480e-08, 1.0000e+00, 4.3085e-07, 7.4954e-11, 3.3048e-15,\n",
            "         2.0707e-10, 1.4844e-13, 3.0029e-10, 1.3654e-09],\n",
            "        [2.4140e-10, 1.6639e-09, 9.9975e-01, 3.0754e-08, 2.5314e-04, 1.2769e-12,\n",
            "         1.7955e-10, 9.4530e-15, 1.2325e-06, 1.2792e-08],\n",
            "        [2.3355e-08, 1.9401e-03, 9.9779e-01, 4.5394e-13, 4.9294e-06, 6.5027e-05,\n",
            "         2.4965e-12, 2.6040e-16, 1.9458e-04, 4.1299e-06],\n",
            "        [6.5474e-08, 3.3668e-02, 9.6629e-01, 1.6560e-12, 3.2763e-09, 3.4704e-10,\n",
            "         8.0471e-09, 3.7995e-16, 1.9040e-05, 2.1226e-05],\n",
            "        [3.4973e-10, 5.9540e-10, 9.9997e-01, 3.2000e-09, 4.2287e-15, 2.1569e-13,\n",
            "         4.6652e-14, 2.6600e-18, 2.3761e-10, 3.3234e-05],\n",
            "        [4.4483e-15, 1.0156e-05, 9.9999e-01, 7.8698e-11, 5.8560e-13, 7.2472e-18,\n",
            "         1.7775e-16, 8.3231e-17, 1.3095e-12, 5.0632e-11],\n",
            "        [3.9086e-06, 1.2369e-14, 1.0000e+00, 1.8590e-16, 7.0769e-14, 7.2536e-19,\n",
            "         5.8048e-14, 4.0531e-23, 1.5663e-13, 7.6090e-10],\n",
            "        [5.6915e-12, 1.4950e-13, 1.0000e+00, 4.0235e-12, 9.8775e-15, 1.4916e-18,\n",
            "         9.9815e-18, 3.2231e-21, 3.8600e-08, 2.1401e-09],\n",
            "        [1.2893e-07, 1.8462e-05, 9.9995e-01, 1.2202e-11, 8.7785e-07, 2.5600e-14,\n",
            "         2.0790e-11, 9.4768e-18, 3.6275e-11, 2.7018e-05],\n",
            "        [1.4634e-11, 8.4809e-07, 9.9999e-01, 1.6548e-10, 2.0712e-11, 1.7579e-16,\n",
            "         4.8942e-13, 3.3058e-15, 1.8324e-11, 5.4436e-06],\n",
            "        [1.2909e-08, 4.1042e-02, 9.5876e-01, 9.7332e-08, 1.9762e-04, 1.8249e-07,\n",
            "         1.1928e-08, 1.5611e-15, 5.1325e-08, 2.7043e-08],\n",
            "        [2.3572e-08, 1.0423e-02, 9.8468e-01, 2.3081e-13, 5.4582e-08, 5.3501e-12,\n",
            "         6.1671e-10, 8.5375e-12, 1.2121e-03, 3.6829e-03],\n",
            "        [8.9957e-02, 5.4437e-08, 9.1003e-01, 1.0309e-09, 3.0558e-12, 3.7241e-12,\n",
            "         1.4300e-14, 5.1083e-13, 1.0515e-05, 4.4317e-06],\n",
            "        [1.2236e-06, 1.3011e-08, 1.0000e+00, 5.2797e-15, 3.9809e-09, 2.0885e-13,\n",
            "         3.9080e-16, 3.3290e-20, 4.8075e-11, 3.8446e-10],\n",
            "        [2.9037e-10, 9.6655e-08, 1.0000e+00, 4.0583e-11, 2.9920e-07, 2.3633e-10,\n",
            "         1.5656e-09, 1.2534e-14, 1.6292e-07, 2.0113e-09],\n",
            "        [2.9085e-06, 4.9188e-08, 9.9998e-01, 1.3467e-12, 4.6759e-07, 3.9866e-12,\n",
            "         3.7058e-15, 3.4409e-15, 1.5333e-11, 1.8892e-05],\n",
            "        [1.9210e-13, 2.6680e-07, 9.9992e-01, 2.7109e-07, 5.6639e-08, 2.3407e-14,\n",
            "         5.3280e-17, 6.4875e-14, 1.0513e-10, 8.0658e-05],\n",
            "        [4.7485e-08, 2.9089e-05, 9.9997e-01, 1.4291e-09, 7.1894e-08, 3.1168e-07,\n",
            "         3.2677e-11, 3.8669e-14, 1.2387e-06, 1.0396e-06],\n",
            "        [5.2658e-11, 3.5172e-06, 9.9996e-01, 1.5489e-14, 3.6969e-05, 8.9400e-16,\n",
            "         1.5794e-11, 3.1332e-13, 1.9723e-07, 3.1369e-06],\n",
            "        [7.4019e-07, 1.5901e-06, 9.2502e-01, 1.2070e-10, 7.4948e-02, 2.9144e-08,\n",
            "         3.2387e-08, 5.9444e-18, 3.3594e-05, 2.8513e-09],\n",
            "        [2.6753e-13, 1.4219e-08, 1.0000e+00, 2.7226e-07, 8.4946e-09, 8.0229e-15,\n",
            "         1.6088e-13, 7.6273e-17, 1.0099e-08, 2.0963e-08],\n",
            "        [1.0692e-09, 2.9232e-09, 1.0000e+00, 1.6138e-10, 6.7658e-13, 1.8274e-14,\n",
            "         2.2020e-12, 5.9343e-15, 5.1334e-10, 1.0460e-07],\n",
            "        [4.8168e-09, 2.1751e-11, 1.0000e+00, 2.1392e-13, 5.3641e-08, 5.3366e-09,\n",
            "         2.2255e-11, 4.1029e-17, 2.9127e-13, 8.5364e-07],\n",
            "        [3.4125e-04, 9.9807e-05, 9.9956e-01, 6.3647e-13, 4.3268e-09, 5.2415e-16,\n",
            "         1.2458e-14, 1.0625e-16, 5.9087e-10, 9.8985e-07],\n",
            "        [1.8271e-11, 2.0591e-07, 1.0000e+00, 1.7147e-17, 3.3113e-10, 6.0279e-12,\n",
            "         1.8681e-10, 6.7932e-17, 1.4530e-07, 1.0551e-10],\n",
            "        [1.5284e-12, 2.7690e-01, 7.1955e-01, 3.1120e-13, 1.0794e-03, 2.6792e-12,\n",
            "         1.3923e-13, 2.5445e-12, 2.4640e-03, 4.4381e-06],\n",
            "        [5.9554e-07, 1.7388e-07, 9.9996e-01, 1.1635e-05, 2.8009e-08, 1.1808e-13,\n",
            "         3.3296e-14, 1.3758e-11, 3.8365e-13, 3.1757e-05],\n",
            "        [7.2183e-08, 2.6475e-06, 9.9999e-01, 1.1616e-08, 6.7343e-07, 1.8408e-13,\n",
            "         1.5435e-09, 1.8307e-12, 3.4325e-06, 3.4143e-08],\n",
            "        [2.4063e-06, 6.8794e-05, 9.9988e-01, 1.6469e-07, 3.6032e-07, 5.0159e-10,\n",
            "         8.6736e-13, 1.4645e-12, 5.1888e-05, 4.9125e-08],\n",
            "        [1.0404e-09, 4.3585e-09, 1.0000e+00, 2.3921e-08, 8.9935e-17, 8.1888e-17,\n",
            "         9.7318e-19, 1.1052e-18, 3.5861e-13, 1.2749e-09],\n",
            "        [1.4602e-09, 3.5307e-08, 1.0000e+00, 1.3731e-06, 1.0115e-08, 7.5817e-15,\n",
            "         1.6128e-15, 5.6900e-14, 1.7614e-08, 3.4114e-09],\n",
            "        [2.3614e-09, 3.3930e-03, 9.9609e-01, 1.1106e-09, 5.0464e-04, 4.7355e-07,\n",
            "         1.3668e-08, 1.2094e-14, 1.4756e-05, 2.5229e-08],\n",
            "        [6.7788e-03, 9.5976e-01, 2.9122e-02, 1.5166e-12, 4.3501e-07, 1.3980e-09,\n",
            "         1.9318e-08, 5.8320e-12, 4.3374e-03, 5.7077e-06],\n",
            "        [1.5181e-09, 6.8540e-07, 9.9995e-01, 2.6638e-05, 1.6672e-10, 5.3199e-11,\n",
            "         8.0312e-14, 1.8969e-17, 1.6715e-14, 2.2024e-05],\n",
            "        [3.8034e-09, 6.2525e-07, 9.8917e-01, 7.8983e-09, 7.9912e-03, 1.3578e-08,\n",
            "         1.1726e-03, 2.5917e-10, 3.6975e-07, 1.6615e-03],\n",
            "        [2.5757e-12, 3.3808e-10, 1.0000e+00, 4.6974e-10, 3.1431e-11, 1.0751e-16,\n",
            "         7.5439e-16, 7.3070e-18, 3.6332e-06, 6.6917e-09],\n",
            "        [6.2794e-09, 7.9836e-05, 9.9888e-01, 9.4845e-08, 2.9221e-05, 2.5059e-13,\n",
            "         8.0935e-09, 1.8072e-16, 2.8430e-06, 1.0115e-03],\n",
            "        [5.3579e-08, 4.0014e-09, 1.0000e+00, 7.0119e-10, 1.0759e-14, 4.2278e-20,\n",
            "         5.1522e-13, 7.0673e-23, 1.0999e-11, 2.2430e-10],\n",
            "        [1.8954e-11, 8.0728e-08, 1.0000e+00, 1.3504e-10, 1.7829e-11, 4.9674e-17,\n",
            "         3.0382e-16, 1.1323e-19, 1.1394e-09, 2.8639e-09],\n",
            "        [3.2149e-10, 1.9981e-09, 1.0000e+00, 3.4587e-13, 5.1373e-07, 3.1385e-10,\n",
            "         2.2288e-16, 1.7648e-15, 2.6030e-12, 2.0302e-08],\n",
            "        [3.4311e-08, 2.7695e-04, 9.9925e-01, 1.0783e-07, 1.9069e-06, 2.3638e-12,\n",
            "         8.9985e-12, 1.7974e-12, 4.2628e-06, 4.7001e-04],\n",
            "        [1.6245e-07, 7.3209e-06, 9.8288e-01, 1.1727e-05, 1.9882e-04, 4.2431e-13,\n",
            "         3.6845e-08, 1.2827e-16, 1.6897e-02, 2.5364e-06],\n",
            "        [6.7593e-06, 3.4810e-13, 9.9999e-01, 3.9603e-14, 1.4894e-12, 9.2347e-17,\n",
            "         1.0670e-14, 1.7459e-20, 1.3229e-10, 3.4791e-07],\n",
            "        [1.2695e-08, 1.9982e-07, 1.0000e+00, 9.0745e-11, 5.9996e-11, 1.2557e-13,\n",
            "         1.8740e-15, 3.1399e-19, 9.9796e-09, 2.4662e-07],\n",
            "        [1.8405e-08, 8.4772e-05, 9.9918e-01, 8.7413e-07, 4.4476e-05, 8.7400e-11,\n",
            "         6.7790e-12, 1.2673e-12, 7.6476e-07, 6.9092e-04],\n",
            "        [6.9280e-06, 1.9852e-06, 9.9999e-01, 1.8302e-07, 2.9257e-07, 3.2495e-13,\n",
            "         2.9085e-13, 9.2753e-12, 8.2763e-10, 1.2098e-06],\n",
            "        [1.3182e-07, 1.4835e-04, 9.7798e-01, 4.0413e-08, 2.1835e-02, 1.9042e-06,\n",
            "         2.6033e-10, 9.8556e-11, 5.0094e-08, 3.1785e-05],\n",
            "        [3.4944e-10, 1.4229e-03, 9.9851e-01, 3.5701e-10, 1.8035e-08, 1.3538e-11,\n",
            "         3.0538e-14, 3.5692e-13, 2.8012e-07, 6.2640e-05],\n",
            "        [6.9002e-07, 4.3121e-03, 9.9561e-01, 2.2637e-13, 9.9440e-16, 3.6307e-08,\n",
            "         4.9448e-15, 4.8138e-16, 7.2397e-05, 2.9358e-06],\n",
            "        [1.7048e-03, 8.9638e-03, 9.8840e-01, 2.8565e-11, 6.8262e-04, 8.6103e-07,\n",
            "         2.5055e-07, 2.3479e-13, 5.4579e-10, 2.4427e-04],\n",
            "        [1.5512e-08, 5.6179e-13, 1.0000e+00, 5.7119e-11, 2.3114e-08, 1.2202e-09,\n",
            "         7.3438e-14, 1.5083e-15, 1.4181e-13, 9.2831e-11],\n",
            "        [1.2960e-06, 5.6786e-09, 1.0000e+00, 1.5466e-09, 2.3001e-08, 1.9397e-11,\n",
            "         1.1762e-10, 6.0912e-14, 4.0773e-09, 4.7601e-10],\n",
            "        [2.6576e-11, 4.6331e-03, 9.9535e-01, 5.5103e-11, 2.6964e-08, 7.8843e-13,\n",
            "         9.9388e-15, 5.8905e-16, 3.4088e-08, 1.8890e-05],\n",
            "        [3.7462e-12, 8.1991e-10, 1.0000e+00, 5.4990e-16, 1.1661e-10, 9.1647e-12,\n",
            "         6.7564e-15, 4.9036e-18, 6.5435e-11, 3.3434e-08],\n",
            "        [1.5744e-08, 1.1385e-04, 9.9986e-01, 2.1090e-05, 4.0163e-08, 7.4948e-13,\n",
            "         1.8860e-11, 6.1990e-12, 8.4271e-07, 8.4493e-09],\n",
            "        [1.5103e-06, 1.6085e-03, 9.9823e-01, 6.0824e-10, 8.7771e-06, 3.0770e-08,\n",
            "         5.9323e-05, 1.3518e-13, 1.9972e-05, 7.0356e-05],\n",
            "        [6.0095e-12, 3.1879e-05, 9.9996e-01, 2.1740e-11, 9.2111e-09, 3.1834e-11,\n",
            "         2.4475e-13, 1.7305e-14, 1.9468e-08, 6.0598e-06],\n",
            "        [2.7276e-11, 1.7792e-04, 9.9982e-01, 1.5945e-13, 8.6662e-09, 1.9266e-11,\n",
            "         2.1353e-16, 1.2097e-18, 5.5416e-09, 2.0860e-07],\n",
            "        [9.3209e-10, 1.5494e-08, 9.9998e-01, 5.6058e-10, 2.2214e-05, 2.7735e-09,\n",
            "         7.0220e-13, 4.0025e-09, 1.7405e-06, 2.9666e-09],\n",
            "        [2.0813e-04, 2.0590e-09, 9.9974e-01, 4.2046e-11, 5.1528e-05, 1.8140e-15,\n",
            "         8.0755e-12, 1.4826e-14, 1.6194e-08, 3.9023e-06],\n",
            "        [5.6502e-10, 3.7207e-13, 1.0000e+00, 5.3303e-15, 3.1533e-13, 1.3849e-18,\n",
            "         9.8744e-18, 2.2477e-21, 1.5501e-10, 1.5064e-07],\n",
            "        [3.3625e-10, 4.3903e-08, 1.0000e+00, 3.7838e-08, 7.1003e-12, 7.4112e-15,\n",
            "         1.1409e-11, 1.5262e-18, 2.5533e-08, 4.5129e-14],\n",
            "        [4.3637e-07, 5.0272e-06, 9.9991e-01, 4.3150e-11, 1.8263e-08, 3.4703e-14,\n",
            "         9.5664e-13, 2.8402e-16, 5.9398e-12, 8.2291e-05]])\n",
            "tensor([1.0000, 1.0000, 1.0000, 1.0000, 1.0000, 1.0000, 1.0000, 1.0000, 1.0000,\n",
            "        1.0000, 1.0000, 1.0000, 1.0000, 1.0000, 1.0000, 1.0000, 1.0000, 1.0000,\n",
            "        1.0000, 1.0000, 1.0000, 1.0000, 1.0000, 1.0000, 1.0000, 1.0000, 1.0000,\n",
            "        1.0000, 1.0000, 1.0000, 1.0000, 1.0000, 1.0000, 1.0000, 1.0000, 1.0000,\n",
            "        1.0000, 1.0000, 1.0000, 1.0000, 1.0000, 1.0000, 1.0000, 1.0000, 1.0000,\n",
            "        1.0000, 1.0000, 1.0000, 1.0000, 1.0000, 1.0000, 1.0000, 1.0000, 1.0000,\n",
            "        1.0000, 1.0000, 1.0000, 1.0000, 1.0000, 1.0000, 1.0000, 1.0000, 1.0000,\n",
            "        1.0000])\n"
          ],
          "name": "stdout"
        }
      ]
    },
    {
      "cell_type": "code",
      "metadata": {
        "id": "PeVyUDOr4ndY"
      },
      "source": [
        "### Building networks with Pytorch using nn module\n",
        "\n",
        "\n",
        "from torch import nn\n",
        "\n",
        "\n",
        "class NeuralNetwork(nn.Module):\n",
        "  def __init__(self):\n",
        "    super().__init__()\n",
        "    self.hidden = nn.Linear(784, 256)\n",
        "    self.output = nn.Linear(256, 10)\n",
        "    self.sigmoid = nn.Sigmoid()\n",
        "    self.sofmax = nn.Softmax(dim=1)\n",
        "  \n",
        "  def forward(self, x):\n",
        "    x = self.hidden(x)\n",
        "    x = self.sigmoid(x)\n",
        "    x = self.output(x)\n",
        "    x = self.sofmax(x)\n",
        "    return x\n"
      ],
      "execution_count": null,
      "outputs": []
    },
    {
      "cell_type": "code",
      "metadata": {
        "colab": {
          "base_uri": "https://localhost:8080/"
        },
        "id": "7k9y9P9K6xvl",
        "outputId": "01c428e1-9513-4fdf-b854-bbef684071af"
      },
      "source": [
        "model = NeuralNetwork()\n",
        "model"
      ],
      "execution_count": null,
      "outputs": [
        {
          "output_type": "execute_result",
          "data": {
            "text/plain": [
              "NeuralNetwork(\n",
              "  (hidden): Linear(in_features=784, out_features=256, bias=True)\n",
              "  (output): Linear(in_features=256, out_features=10, bias=True)\n",
              "  (sigmoid): Sigmoid()\n",
              "  (sofmax): Softmax(dim=1)\n",
              ")"
            ]
          },
          "metadata": {
            "tags": []
          },
          "execution_count": 42
        }
      ]
    },
    {
      "cell_type": "code",
      "metadata": {
        "id": "3ZcZjSUH7rQj"
      },
      "source": [
        "import torch.nn.functional as F\n",
        "\n",
        "\n",
        "class NeuralNetwork(nn.Module):\n",
        "  def __init__(self):\n",
        "    super().__init__()\n",
        "    self.hidden = nn.Linear(784, 256)\n",
        "    self.output = nn.Linear(256, 10)\n",
        "  \n",
        "  def forward(self, x):\n",
        "    x = F.sigmoid(self.hidden(x))\n",
        "    x = F.softmax(self.output(x), dim=1)\n",
        "    return x"
      ],
      "execution_count": null,
      "outputs": []
    },
    {
      "cell_type": "code",
      "metadata": {
        "colab": {
          "base_uri": "https://localhost:8080/"
        },
        "id": "lICW-CX6AvLJ",
        "outputId": "db742257-ccc4-4e53-df25-8610f04926bb"
      },
      "source": [
        "model = NeuralNetwork()\n",
        "model"
      ],
      "execution_count": null,
      "outputs": [
        {
          "output_type": "execute_result",
          "data": {
            "text/plain": [
              "NeuralNetwork(\n",
              "  (hidden): Linear(in_features=784, out_features=256, bias=True)\n",
              "  (output): Linear(in_features=256, out_features=10, bias=True)\n",
              ")"
            ]
          },
          "metadata": {
            "tags": []
          },
          "execution_count": 44
        }
      ]
    },
    {
      "cell_type": "code",
      "metadata": {
        "id": "_YryZjUsAwwq"
      },
      "source": [
        "import torch.nn.functional as F\n",
        "\n",
        "\n",
        "class NeuralNetwork(nn.Module):\n",
        "  def __init__(self):\n",
        "    super().__init__()\n",
        "    self.layer1 = nn.Linear(784, 128)\n",
        "    self.layer2 = nn.Linear(128, 64)\n",
        "    self.output = nn.Linear(64, 10)\n",
        "  \n",
        "  def forward(self, x):\n",
        "    x = F.relu(self.layer1(x))\n",
        "    x = F.relu(self.layer2(x))\n",
        "    x = F.softmax(self.output(x), dim=1)\n",
        "    return x"
      ],
      "execution_count": null,
      "outputs": []
    },
    {
      "cell_type": "code",
      "metadata": {
        "colab": {
          "base_uri": "https://localhost:8080/"
        },
        "id": "3okBM0mz7PLH",
        "outputId": "3631fe19-2afa-4402-8b69-d04cb701e63f"
      },
      "source": [
        "###Autograd\n",
        "# turn on or off gradients with torch.set_grad_enabled(True|False)\n",
        "x = torch.randn((2, 2), requires_grad=True)\n",
        "y = x**2\n",
        "y = y.mean()\n",
        "y.backward()\n",
        "print(x.grad)\n",
        "print(x/2)"
      ],
      "execution_count": null,
      "outputs": [
        {
          "output_type": "stream",
          "text": [
            "tensor([[-0.9867,  0.6642],\n",
            "        [-0.5859,  0.1327]])\n",
            "tensor([[-0.9867,  0.6642],\n",
            "        [-0.5859,  0.1327]], grad_fn=<DivBackward0>)\n"
          ],
          "name": "stdout"
        }
      ]
    },
    {
      "cell_type": "code",
      "metadata": {
        "id": "9j284y0BCeXV",
        "colab": {
          "base_uri": "https://localhost:8080/"
        },
        "outputId": "23c37210-e432-44b8-d84b-a5af4d4b9adc"
      },
      "source": [
        "model = nn.Sequential(nn.Linear(784, 128),\n",
        "                      nn.ReLU(),\n",
        "                      nn.Linear(128, 64),\n",
        "                      nn.ReLU(),\n",
        "                      nn.Linear(64, 10),\n",
        "                      nn.LogSoftmax(dim=1))\n",
        "#define the loss\n",
        "criterion = nn.NLLLoss()\n",
        "\n",
        "images, labels = next(iter(trainloader))\n",
        "images = images.view(images.shape[0], -1)\n",
        "logps = model(images)\n",
        "loss = criterion(logps, labels)\n",
        "print(loss)"
      ],
      "execution_count": null,
      "outputs": [
        {
          "output_type": "stream",
          "text": [
            "tensor(2.2973, grad_fn=<NllLossBackward>)\n"
          ],
          "name": "stdout"
        }
      ]
    },
    {
      "cell_type": "code",
      "metadata": {
        "colab": {
          "base_uri": "https://localhost:8080/"
        },
        "id": "5PWVyleE8kVZ",
        "outputId": "8d4ee5a4-13f4-41d9-cfac-3fce1c77b904"
      },
      "source": [
        "print(model)"
      ],
      "execution_count": null,
      "outputs": [
        {
          "output_type": "stream",
          "text": [
            "Sequential(\n",
            "  (0): Linear(in_features=784, out_features=128, bias=True)\n",
            "  (1): ReLU()\n",
            "  (2): Linear(in_features=128, out_features=64, bias=True)\n",
            "  (3): ReLU()\n",
            "  (4): Linear(in_features=64, out_features=10, bias=True)\n",
            "  (5): LogSoftmax(dim=1)\n",
            ")\n"
          ],
          "name": "stdout"
        }
      ]
    },
    {
      "cell_type": "code",
      "metadata": {
        "colab": {
          "base_uri": "https://localhost:8080/"
        },
        "id": "0LCAJCIK9wg-",
        "outputId": "e6fcfa5c-40ab-49fb-cd9b-62ed2f65728c"
      },
      "source": [
        "print(model[0].weight.grad)\n",
        "loss = loss.mean()\n",
        "loss.backward()\n",
        "print(model[0].weight.grad)"
      ],
      "execution_count": null,
      "outputs": [
        {
          "output_type": "stream",
          "text": [
            "None\n",
            "tensor([[-0.0012, -0.0012, -0.0012,  ..., -0.0012, -0.0012, -0.0012],\n",
            "        [ 0.0029,  0.0029,  0.0029,  ...,  0.0029,  0.0029,  0.0029],\n",
            "        [-0.0022, -0.0022, -0.0022,  ..., -0.0022, -0.0022, -0.0022],\n",
            "        ...,\n",
            "        [-0.0007, -0.0007, -0.0007,  ..., -0.0007, -0.0007, -0.0007],\n",
            "        [-0.0026, -0.0026, -0.0026,  ..., -0.0026, -0.0026, -0.0026],\n",
            "        [ 0.0000,  0.0000,  0.0000,  ...,  0.0000,  0.0000,  0.0000]])\n"
          ],
          "name": "stdout"
        }
      ]
    },
    {
      "cell_type": "code",
      "metadata": {
        "colab": {
          "base_uri": "https://localhost:8080/"
        },
        "id": "eve6tkcr-Ck0",
        "outputId": "05ff8a53-6e3f-4c7e-a61e-18a23731831e"
      },
      "source": [
        "from torch import optim\n",
        "\n",
        "optimizer = optim.SGD(model.parameters(), lr=0.01)\n",
        "#clear the gradients\n",
        "optimizer.zero_grad()\n",
        "\n",
        "output = model.forward(images)\n",
        "loss = criterion(output, labels)\n",
        "loss.backward()\n",
        "print('Gradient - ', model[0].weight.grad)"
      ],
      "execution_count": null,
      "outputs": [
        {
          "output_type": "stream",
          "text": [
            "Gradient -  tensor([[ 0.0023,  0.0023,  0.0023,  ...,  0.0023,  0.0023,  0.0023],\n",
            "        [ 0.0048,  0.0048,  0.0048,  ...,  0.0048,  0.0048,  0.0048],\n",
            "        [-0.0050, -0.0050, -0.0050,  ..., -0.0050, -0.0050, -0.0050],\n",
            "        ...,\n",
            "        [ 0.0004,  0.0004,  0.0004,  ...,  0.0004,  0.0004,  0.0004],\n",
            "        [-0.0024, -0.0024, -0.0024,  ..., -0.0024, -0.0024, -0.0024],\n",
            "        [ 0.0000,  0.0000,  0.0000,  ...,  0.0000,  0.0000,  0.0000]])\n"
          ],
          "name": "stdout"
        }
      ]
    },
    {
      "cell_type": "code",
      "metadata": {
        "colab": {
          "base_uri": "https://localhost:8080/"
        },
        "id": "7zJDMplV_Tjl",
        "outputId": "65d179a7-b425-43f8-ca8b-665eb41edc44"
      },
      "source": [
        "optimizer.step()\n",
        "print('Update weights - ', model[0].weight)"
      ],
      "execution_count": null,
      "outputs": [
        {
          "output_type": "stream",
          "text": [
            "Update weights -  Parameter containing:\n",
            "tensor([[-0.0120, -0.0149,  0.0344,  ...,  0.0126,  0.0101, -0.0083],\n",
            "        [ 0.0234,  0.0140, -0.0305,  ..., -0.0037,  0.0142, -0.0129],\n",
            "        [-0.0178, -0.0352, -0.0022,  ...,  0.0192,  0.0269, -0.0050],\n",
            "        ...,\n",
            "        [-0.0032,  0.0261, -0.0106,  ...,  0.0216, -0.0035,  0.0241],\n",
            "        [ 0.0282,  0.0327, -0.0231,  ..., -0.0196,  0.0102, -0.0140],\n",
            "        [-0.0052,  0.0309,  0.0048,  ..., -0.0207, -0.0038,  0.0178]],\n",
            "       requires_grad=True)\n"
          ],
          "name": "stdout"
        }
      ]
    },
    {
      "cell_type": "code",
      "metadata": {
        "colab": {
          "base_uri": "https://localhost:8080/"
        },
        "id": "s5y_UPFgAGI8",
        "outputId": "8274c0a5-5ca8-4f83-cab7-ec07c45e5836"
      },
      "source": [
        "model = nn.Sequential(nn.Linear(784, 128),\n",
        "                      nn.ReLU(),\n",
        "                      nn.Linear(128, 64),\n",
        "                      nn.ReLU(),\n",
        "                      nn.Linear(64, 10),\n",
        "                      nn.Softmax(dim=1))\n",
        "\n",
        "criterion = nn.NLLLoss()\n",
        "optimizer = optim.SGD(model.parameters(), lr=0.003)\n",
        "\n",
        "epochs = 5\n",
        "for e in range(epochs):\n",
        "  running_loss = 0\n",
        "  for images, labels in trainloader:\n",
        "    images = images.view(images.shape[0], -1)\n",
        "    output = model.forward(images)\n",
        "    loss = criterion(output, labels)\n",
        "    loss.backward()\n",
        "    running_loss += loss.item()\n",
        "  else:\n",
        "    print(f\"Training loss: {running_loss/len(trainloader)}\")"
      ],
      "execution_count": null,
      "outputs": [
        {
          "output_type": "stream",
          "text": [
            "Training loss: -0.10008049174062987\n",
            "Training loss: -0.1000830648280283\n",
            "Training loss: -0.10008245789165944\n",
            "Training loss: -0.10008251427142605\n",
            "Training loss: -0.10008311094537473\n"
          ],
          "name": "stdout"
        }
      ]
    },
    {
      "cell_type": "code",
      "metadata": {
        "colab": {
          "base_uri": "https://localhost:8080/",
          "height": 195
        },
        "id": "uxmjiVFCLAOv",
        "outputId": "06b5c575-b544-47c0-ec65-dc789022dbb0"
      },
      "source": [
        "%matplotlib inline\n",
        "import helper\n",
        "\n",
        "images, labels = next(iter(trainloader))\n",
        "img = images[0].view(1, 784)\n",
        "\n",
        "with torch.no_grad():\n",
        "  logits = model.forward(img)\n",
        "\n",
        "ps = F.softmax(logits, dim=1)\n",
        "helper.view"
      ],
      "execution_count": null,
      "outputs": [
        {
          "output_type": "error",
          "ename": "AttributeError",
          "evalue": "ignored",
          "traceback": [
            "\u001b[0;31m---------------------------------------------------------------------------\u001b[0m",
            "\u001b[0;31mAttributeError\u001b[0m                            Traceback (most recent call last)",
            "\u001b[0;32m<ipython-input-55-3190817e1e34>\u001b[0m in \u001b[0;36m<module>\u001b[0;34m()\u001b[0m\n\u001b[1;32m      9\u001b[0m \u001b[0;34m\u001b[0m\u001b[0m\n\u001b[1;32m     10\u001b[0m \u001b[0mps\u001b[0m \u001b[0;34m=\u001b[0m \u001b[0mF\u001b[0m\u001b[0;34m.\u001b[0m\u001b[0msoftmax\u001b[0m\u001b[0;34m(\u001b[0m\u001b[0mlogits\u001b[0m\u001b[0;34m,\u001b[0m \u001b[0mdim\u001b[0m\u001b[0;34m=\u001b[0m\u001b[0;36m1\u001b[0m\u001b[0;34m)\u001b[0m\u001b[0;34m\u001b[0m\u001b[0;34m\u001b[0m\u001b[0m\n\u001b[0;32m---> 11\u001b[0;31m \u001b[0mhelper\u001b[0m\u001b[0;34m.\u001b[0m\u001b[0mview_classify\u001b[0m\u001b[0;34m(\u001b[0m\u001b[0mimg\u001b[0m\u001b[0;34m.\u001b[0m\u001b[0mview\u001b[0m\u001b[0;34m(\u001b[0m\u001b[0;36m1\u001b[0m\u001b[0;34m,\u001b[0m \u001b[0;36m28\u001b[0m\u001b[0;34m,\u001b[0m \u001b[0;36m28\u001b[0m\u001b[0;34m)\u001b[0m\u001b[0;34m,\u001b[0m \u001b[0mps\u001b[0m\u001b[0;34m)\u001b[0m\u001b[0;34m\u001b[0m\u001b[0;34m\u001b[0m\u001b[0m\n\u001b[0m",
            "\u001b[0;31mAttributeError\u001b[0m: module 'helper' has no attribute 'view_classify'"
          ]
        }
      ]
    },
    {
      "cell_type": "code",
      "metadata": {
        "id": "gIhQysO2MNbV"
      },
      "source": [
        ""
      ],
      "execution_count": null,
      "outputs": []
    }
  ]
}