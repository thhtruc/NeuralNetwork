{
  "nbformat": 4,
  "nbformat_minor": 0,
  "metadata": {
    "colab": {
      "name": "MNIST_MLP.ipynb",
      "provenance": [],
      "collapsed_sections": [],
      "authorship_tag": "ABX9TyMMBIGJDv+JJejZrWEfTWWf",
      "include_colab_link": true
    },
    "kernelspec": {
      "name": "python3",
      "display_name": "Python 3"
    },
    "language_info": {
      "name": "python"
    }
  },
  "cells": [
    {
      "cell_type": "markdown",
      "metadata": {
        "id": "view-in-github",
        "colab_type": "text"
      },
      "source": [
        "<a href=\"https://colab.research.google.com/github/thhtruc/NeuralNetwork/blob/main/MNIST_MLP.ipynb\" target=\"_parent\"><img src=\"https://colab.research.google.com/assets/colab-badge.svg\" alt=\"Open In Colab\"/></a>"
      ]
    },
    {
      "cell_type": "markdown",
      "metadata": {
        "id": "d_bNL6LwdM3_"
      },
      "source": [
        "The process will broken down into the following steps:\n",
        "1. loading and visualize the data\n",
        "2. define a neural network\n",
        "3. train model\n",
        "4. evaluate the performance of trained model on test dataset"
      ]
    },
    {
      "cell_type": "code",
      "metadata": {
        "id": "evULhxhDdIst"
      },
      "source": [
        "\"\"\"Train an MLP to classify images from the MNIST database.\"\"\"\n",
        "import torch\n",
        "import numpy as np\n",
        "from torchvision import datasets\n",
        "import torchvision.transforms as transforms\n",
        "import torch.nn as nn\n",
        "import torch.nn.functional as F\n",
        "from torch.utils.data.sampler import SubsetRandomSampler"
      ],
      "execution_count": 20,
      "outputs": []
    },
    {
      "cell_type": "code",
      "metadata": {
        "id": "sSKtabyjBIgG"
      },
      "source": [
        "# number of subprocesses to use for data loading\n",
        "num_workers = 0\n",
        "batch_size = 20\n",
        "valid_size = 0.2\n",
        "\n",
        "# convert data to torch.FloatTensor\n",
        "transforms = transforms.ToTensor()\n",
        "train_data = datasets.MNIST(\n",
        "    root=\"train_data_MNIST\", train=True, download=True, transform=transforms\n",
        ")\n",
        "test_data = datasets.MNIST(\n",
        "    root=\"test_data_MNIST\", train=False, download=True, transform=transforms\n",
        ")\n",
        "\n",
        "num_train = len(train_data)\n",
        "indices = list(range(num_train))\n",
        "np.random.shuffle(indices)\n",
        "split = int(np.floor(valid_size * num_train))\n",
        "train_idx, valid_idx = indices[split:], indices[:split]\n",
        "\n",
        "train_sampler = SubsetRandomSampler(train_idx)\n",
        "valid_sampler = SubsetRandomSampler(valid_idx)\n",
        "\n",
        "train_loader = torch.utils.data.DataLoader(train_data, batch_size=batch_size, sampler=train_sampler, num_workers=num_workers)\n",
        "valid_loader = torch.utils.data.DataLoader(train_data, batch_size=batch_size, sampler=valid_sampler, num_workers=num_workers)\n",
        "test_loader = torch.utils.data.DataLoader(test_data, batch_size=batch_size, num_workers=num_workers)\n"
      ],
      "execution_count": 21,
      "outputs": []
    },
    {
      "cell_type": "code",
      "metadata": {
        "colab": {
          "base_uri": "https://localhost:8080/",
          "height": 246
        },
        "id": "jqmR4XViguCG",
        "outputId": "4d94d0b7-6c2e-4eb6-fe06-5740e15d83ae"
      },
      "source": [
        "# visualize a batch of training data\n",
        "import matplotlib.pyplot as plt\n",
        "dataiter = iter(train_loader)\n",
        "images, labels = dataiter.next()\n",
        "images = images.numpy()\n",
        "\n",
        "\n",
        "fig = plt.figure(figsize=(25, 4))\n",
        "for idx in np.arange(20):\n",
        "    ax = fig.add_subplot(2, 20 / 2, idx + 1, xticks=[], yticks=[])\n",
        "    ax.imshow(np.squeeze(images[idx]), cmap=\"gray\")\n",
        "    ax.set_title(str(labels[idx].item()))\n",
        "    img = np.squeeze(images[1])\n",
        "plt.show()"
      ],
      "execution_count": 22,
      "outputs": [
        {
          "output_type": "display_data",
          "data": {
            "image/png": "[encoded data removed]",
            "text/plain": [
              "<Figure size 1800x288 with 20 Axes>"
            ]
          },
          "metadata": {
            "tags": []
          }
        }
      ]
    },
    {
      "cell_type": "code",
      "metadata": {
        "id": "ooqa8jMXBOmn"
      },
      "source": [
        "class MLP(nn.Module):\n",
        "    \"\"\"define the MLP.\"\"\"\n",
        "    def __init__(self, hidden_layers, dropout=0.5):\n",
        "        super(MLP, self).__init__()\n",
        "        hidden_1 = hidden_layers[0]\n",
        "        hidden_2 = hidden_layers[1]\n",
        "        self.fc1 = nn.Linear(28 * 28, hidden_1)\n",
        "        self.fc2 = nn.Linear(hidden_1, hidden_2)\n",
        "        self.fc3 = nn.Linear(hidden_2, 10)\n",
        "        # dropout prevents overfitting of data\n",
        "        self.dropout = nn.Dropout(dropout)\n",
        "\n",
        "    def forward(self, x):\n",
        "        # flatten image input\n",
        "        x = x.view(-1, 28 * 28)\n",
        "        x = F.relu(self.fc1(x))\n",
        "        x = self.dropout(x)\n",
        "        x = F.relu(self.fc2(x))\n",
        "        x = self.dropout(x)\n",
        "        x = self.fc3(x)\n",
        "        return x"
      ],
      "execution_count": 23,
      "outputs": []
    },
    {
      "cell_type": "code",
      "metadata": {
        "colab": {
          "base_uri": "https://localhost:8080/"
        },
        "id": "-LkYhdIvBNT3",
        "outputId": "1904003d-d6e0-448d-f9d2-3f260c5122b1"
      },
      "source": [
        "# initialize the MLP\n",
        "model = MLP(hidden_layers=[512, 256])\n",
        "print(model)\n",
        "criterion = nn.CrossEntropyLoss()\n",
        "optimizer = torch.optim.SGD(model.parameters(), lr=0.01)"
      ],
      "execution_count": 24,
      "outputs": [
        {
          "output_type": "stream",
          "text": [
            "MLP(\n",
            "  (fc1): Linear(in_features=784, out_features=512, bias=True)\n",
            "  (fc2): Linear(in_features=512, out_features=256, bias=True)\n",
            "  (fc3): Linear(in_features=256, out_features=10, bias=True)\n",
            "  (dropout): Dropout(p=0.5, inplace=False)\n",
            ")\n"
          ],
          "name": "stdout"
        }
      ]
    },
    {
      "cell_type": "code",
      "metadata": {
        "colab": {
          "base_uri": "https://localhost:8080/"
        },
        "id": "YCFii9EaBWv9",
        "outputId": "80c91218-290d-4ba1-d2b3-66d1f586ab80"
      },
      "source": [
        "epochs = 10\n",
        "for epoch in range(epochs):\n",
        "    train_loss = 0\n",
        "    valid_loss = 0\n",
        "\n",
        "    model.train()\n",
        "    for images, labels in train_loader:\n",
        "        optimizer.zero_grad()\n",
        "        output = model(images)\n",
        "        loss = criterion(output, labels)\n",
        "        loss.backward()\n",
        "        optimizer.step()\n",
        "        train_loss += loss.item()\n",
        "    train_loss = train_loss/len(train_loader)\n",
        "\n",
        "    model.eval() # prep model for evaluation\n",
        "    for images, labels in valid_loader:\n",
        "        # forward pass: compute predicted outputs by passing inputs to the model\n",
        "        output = model(images)\n",
        "        # calculate the loss\n",
        "        loss = criterion(output, labels)\n",
        "        # update running validation loss \n",
        "        valid_loss += loss.item()\n",
        "    valid_loss = valid_loss/len(valid_loader)\n",
        "\n",
        "    print('Epoch: {} \\tTraining Loss: {:.6f} \\tValidation Loss: {:.6f}'.format(\n",
        "        epoch+1, \n",
        "        train_loss,\n",
        "        valid_loss\n",
        "        ))\n"
      ],
      "execution_count": 25,
      "outputs": [
        {
          "output_type": "stream",
          "text": [
            "Epoch: 1 \tTraining Loss: 1.111790 \tValidation Loss: 0.404069\n",
            "Epoch: 2 \tTraining Loss: 0.437793 \tValidation Loss: 0.287485\n",
            "Epoch: 3 \tTraining Loss: 0.338400 \tValidation Loss: 0.236340\n",
            "Epoch: 4 \tTraining Loss: 0.280513 \tValidation Loss: 0.203326\n",
            "Epoch: 5 \tTraining Loss: 0.240655 \tValidation Loss: 0.177828\n",
            "Epoch: 6 \tTraining Loss: 0.215508 \tValidation Loss: 0.161053\n",
            "Epoch: 7 \tTraining Loss: 0.192114 \tValidation Loss: 0.146944\n",
            "Epoch: 8 \tTraining Loss: 0.172560 \tValidation Loss: 0.136407\n",
            "Epoch: 9 \tTraining Loss: 0.162223 \tValidation Loss: 0.125464\n",
            "Epoch: 10 \tTraining Loss: 0.150124 \tValidation Loss: 0.120229\n"
          ],
          "name": "stdout"
        }
      ]
    },
    {
      "cell_type": "code",
      "metadata": {
        "colab": {
          "base_uri": "https://localhost:8080/"
        },
        "id": "Ie7jd70kBap8",
        "outputId": "2674fe1d-a9f0-4b93-dedc-984ebb559aa8"
      },
      "source": [
        "# initialize lists to monitor test loss and accuracy\n",
        "test_loss = 0.0\n",
        "class_correct = list(0. for i in range(10))\n",
        "class_total = list(0. for i in range(10))\n",
        "\n",
        "model.eval() # prep model for evaluation\n",
        "\n",
        "for data, target in test_loader:\n",
        "    output = model(data)\n",
        "    loss = criterion(output, target)\n",
        "    test_loss += loss.item()\n",
        "    _, pred = torch.max(output, 1)\n",
        "    correct = np.squeeze(pred.eq(target.data.view_as(pred)))\n",
        "    for i in range(batch_size):\n",
        "        label = target.data[i]\n",
        "        class_correct[label] += correct[i].item()\n",
        "        class_total[label] += 1\n",
        "test_loss = test_loss/len(test_loader.dataset)\n",
        "print('Test Loss: {:.6f}\\n'.format(test_loss))\n",
        "\n",
        "for i in range(10):\n",
        "  print('Test Accuracy of %5s: %2d%% (%2d/%2d)' % (\n",
        "            str(i), 100 * class_correct[i] / class_total[i],\n",
        "            np.sum(class_correct[i]), np.sum(class_total[i])))\n",
        "\n",
        "print('\\nTest Accuracy (Overall): %2d%% (%2d/%2d)' % (\n",
        "    100. * np.sum(class_correct) / np.sum(class_total),\n",
        "    np.sum(class_correct), np.sum(class_total)))"
      ],
      "execution_count": 26,
      "outputs": [
        {
          "output_type": "stream",
          "text": [
            "Test Loss: 0.005390\n",
            "\n",
            "Test Accuracy of     0: 98% (968/980)\n",
            "Test Accuracy of     1: 98% (1121/1135)\n",
            "Test Accuracy of     2: 97% (1004/1032)\n",
            "Test Accuracy of     3: 96% (979/1010)\n",
            "Test Accuracy of     4: 96% (945/982)\n",
            "Test Accuracy of     5: 94% (841/892)\n",
            "Test Accuracy of     6: 97% (931/958)\n",
            "Test Accuracy of     7: 96% (990/1028)\n",
            "Test Accuracy of     8: 95% (926/974)\n",
            "Test Accuracy of     9: 94% (957/1009)\n",
            "\n",
            "Test Accuracy (Overall): 96% (9662/10000)\n"
          ],
          "name": "stdout"
        }
      ]
    }
  ]
}